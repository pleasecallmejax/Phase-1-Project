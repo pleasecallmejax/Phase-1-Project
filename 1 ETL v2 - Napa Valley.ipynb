{
 "cells": [
  {
   "cell_type": "markdown",
   "metadata": {},
   "source": [
    "# Getting Your Data From Yelp!"
   ]
  },
  {
   "cell_type": "markdown",
   "metadata": {},
   "source": [
    "In order to make sure you are on track to completing the project, you will complete this workbook first. Below are steps that you need to take in order to make sure you have your data from yelp and are ready to analyze it. Your cohort lead will review this workbook with you the Wednesday before your project is due.    "
   ]
  },
  {
   "cell_type": "markdown",
   "metadata": {},
   "source": [
    "# Part 1 - Understanding your data and question"
   ]
  },
  {
   "cell_type": "markdown",
   "metadata": {},
   "source": [
    "You will be pulling data from the Yelp API to complete your analysis. The API, however, provides you with a lot of information that will not be pertinent to your analysis. You will pull data from the API and parse through it to keep only the data that you will need. In order to help you identify that information,look at the API documentation and understand what data the API will provide you. \n",
    "\n",
    "Identify which data fields you will want to keep for your analysis. \n",
    "\n",
    "https://www.yelp.com/developers/documentation/v3/get_started"
   ]
  },
  {
   "cell_type": "markdown",
   "metadata": {},
   "source": [
    "# Part 2 - Create ETL pipeline for the business data from the API"
   ]
  },
  {
   "cell_type": "markdown",
   "metadata": {},
   "source": [
    "## Details"
   ]
  },
  {
   "cell_type": "markdown",
   "metadata": {},
   "source": [
    "Now that you know what data you need from the API, you want to write code that will execute an API call, parse those results and then insert the results into the DB.  \n",
    "\n",
    "It is helpful to break this up into three different functions (*API call, parse results, and insert into DB*) and then you can write a function/script that pull the other three functions together. \n",
    "\n",
    "Let's first do this for the Business endpoint."
   ]
  },
  {
   "cell_type": "markdown",
   "metadata": {},
   "source": [
    "## Request"
   ]
  },
  {
   "cell_type": "markdown",
   "metadata": {},
   "source": [
    "### Imports and Setup"
   ]
  },
  {
   "cell_type": "code",
   "execution_count": 4,
   "metadata": {
    "ExecuteTime": {
     "end_time": "2021-05-13T21:04:55.618364Z",
     "start_time": "2021-05-13T21:04:54.551765Z"
    },
    "code_folding": []
   },
   "outputs": [],
   "source": [
    "import requests\n",
    "import pandas as pd\n",
    "import json\n",
    "import csv\n",
    "import numpy as np\n",
    "import seaborn as sns\n",
    "import matplotlib.pyplot as plt\n",
    "\n",
    "with open(r'C:\\Users\\bmcca\\.secret\\yelp_api.json') as f:\n",
    "    keys = json.load(f)\n",
    "\n",
    "client_id = keys['id']\n",
    "yelp_key = keys['key']"
   ]
  },
  {
   "cell_type": "markdown",
   "metadata": {},
   "source": [
    "### ƒ: yelp_request"
   ]
  },
  {
   "cell_type": "markdown",
   "metadata": {
    "ExecuteTime": {
     "end_time": "2021-05-10T15:58:43.341776Z",
     "start_time": "2021-05-10T15:58:43.321768Z"
    }
   },
   "source": [
    " - Params: search term (eg. \"wineries); location; yelp_key variable (from Imports); and changing setting to print details"
   ]
  },
  {
   "cell_type": "code",
   "execution_count": 4,
   "metadata": {
    "ExecuteTime": {
     "end_time": "2021-05-13T20:57:45.215483Z",
     "start_time": "2021-05-13T20:57:45.202485Z"
    },
    "code_folding": []
   },
   "outputs": [],
   "source": [
    "def yelp_request(term, location, yelp_key, verbose=True):\n",
    "    '''Adapted from Yelp API Lab: https://github.com/BenJMcCarty/dsc-yelp-api-lab/tree/solution'''\n",
    "    \n",
    "    url = 'https://api.yelp.com/v3/businesses/search'\n",
    "\n",
    "    headers = {\n",
    "            'Authorization': 'Bearer {}'.format(yelp_key),\n",
    "        }\n",
    "\n",
    "    url_params = {\n",
    "                    'term': term.replace(' ', '+'),\n",
    "                    'location': location.replace(' ', '+'),\n",
    "                    'limit': 50\n",
    "                }\n",
    "    response = requests.get(url, headers=headers, params=url_params)\n",
    "    \n",
    "    if verbose == True:\n",
    "        print(response)\n",
    "        print(type(response.text))\n",
    "        print(response.text[:1000])\n",
    "        \n",
    "    return response.json()"
   ]
  },
  {
   "cell_type": "markdown",
   "metadata": {
    "ExecuteTime": {
     "end_time": "2021-05-10T19:44:09.881783Z",
     "start_time": "2021-05-10T19:44:09.868735Z"
    }
   },
   "source": [
    "### Sending the request\n"
   ]
  },
  {
   "cell_type": "markdown",
   "metadata": {},
   "source": [
    "- Un-comment the next line to run the response"
   ]
  },
  {
   "cell_type": "code",
   "execution_count": 5,
   "metadata": {
    "ExecuteTime": {
     "end_time": "2021-05-13T20:57:45.230497Z",
     "start_time": "2021-05-13T20:57:45.218485Z"
    },
    "scrolled": true
   },
   "outputs": [],
   "source": [
    "# response = yelp_request('winery','Southern California', yelp_key)\n",
    "# response.keys()"
   ]
  },
  {
   "cell_type": "markdown",
   "metadata": {},
   "source": [
    "### Identifying and Exploring Keys"
   ]
  },
  {
   "cell_type": "code",
   "execution_count": 6,
   "metadata": {
    "ExecuteTime": {
     "end_time": "2021-05-13T20:57:45.246484Z",
     "start_time": "2021-05-13T20:57:45.234485Z"
    }
   },
   "outputs": [],
   "source": [
    "# # Identify keys\n",
    "\n",
    "# print(response.keys())"
   ]
  },
  {
   "cell_type": "markdown",
   "metadata": {},
   "source": [
    "#### Exploring the \"Businesses\" Key"
   ]
  },
  {
   "cell_type": "code",
   "execution_count": 7,
   "metadata": {
    "ExecuteTime": {
     "end_time": "2021-05-13T20:57:45.261495Z",
     "start_time": "2021-05-13T20:57:45.249487Z"
    }
   },
   "outputs": [],
   "source": [
    "# response['businesses']"
   ]
  },
  {
   "cell_type": "code",
   "execution_count": 8,
   "metadata": {
    "ExecuteTime": {
     "end_time": "2021-05-13T20:57:45.276483Z",
     "start_time": "2021-05-13T20:57:45.263485Z"
    },
    "code_folding": [],
    "scrolled": true
   },
   "outputs": [],
   "source": [
    "# # Show first item w/in list of businesses\n",
    "\n",
    "# response['businesses'][0]"
   ]
  },
  {
   "cell_type": "code",
   "execution_count": 9,
   "metadata": {
    "ExecuteTime": {
     "end_time": "2021-05-13T20:57:45.292492Z",
     "start_time": "2021-05-13T20:57:45.279485Z"
    }
   },
   "outputs": [],
   "source": [
    "# response['businesses'][0]['categories'][0]['alias']"
   ]
  },
  {
   "cell_type": "code",
   "execution_count": 10,
   "metadata": {
    "ExecuteTime": {
     "end_time": "2021-05-13T20:57:45.308486Z",
     "start_time": "2021-05-13T20:57:45.296484Z"
    }
   },
   "outputs": [],
   "source": [
    "# response['businesses'][0]['categories'][0]['title']"
   ]
  },
  {
   "cell_type": "markdown",
   "metadata": {},
   "source": [
    "#### Exploring the \"Total\" Key"
   ]
  },
  {
   "cell_type": "code",
   "execution_count": 11,
   "metadata": {
    "ExecuteTime": {
     "end_time": "2021-05-13T20:57:45.324485Z",
     "start_time": "2021-05-13T20:57:45.311486Z"
    }
   },
   "outputs": [],
   "source": [
    "# response['total']\n",
    "\n",
    "# # How many businesses are there in total for my request?"
   ]
  },
  {
   "cell_type": "markdown",
   "metadata": {},
   "source": [
    "#### Exploring the \"Region\" Key"
   ]
  },
  {
   "cell_type": "code",
   "execution_count": 12,
   "metadata": {
    "ExecuteTime": {
     "end_time": "2021-05-13T20:57:45.339485Z",
     "start_time": "2021-05-13T20:57:45.327486Z"
    }
   },
   "outputs": [],
   "source": [
    "# response['region']\n",
    "\n",
    "# # From which geographical area will my results come?"
   ]
  },
  {
   "cell_type": "markdown",
   "metadata": {},
   "source": [
    "## Parse"
   ]
  },
  {
   "cell_type": "markdown",
   "metadata": {
    "ExecuteTime": {
     "end_time": "2021-05-10T21:41:29.180856Z",
     "start_time": "2021-05-10T21:41:29.173856Z"
    }
   },
   "source": [
    "### ƒ: parse_data"
   ]
  },
  {
   "cell_type": "code",
   "execution_count": 13,
   "metadata": {
    "ExecuteTime": {
     "end_time": "2021-05-13T20:57:45.354486Z",
     "start_time": "2021-05-13T20:57:45.341487Z"
    },
    "code_folding": []
   },
   "outputs": [],
   "source": [
    "def parse_data(list_of_data):\n",
    "    '''Adapted from Tyrell's code'''  \n",
    "\n",
    "    # Create empty list to store results\n",
    "    \n",
    "    parsed_data = []\n",
    "    \n",
    "    # Loop through each business in the list of businesses\n",
    "    # Add specific k:v pairs to a dictionary\n",
    "    \n",
    "    for business in list_of_data:\n",
    "        if 'price' not in business:\n",
    "            business['price'] = np.nan\n",
    "            \n",
    "            # Verify that the \"price\" key is in the selected business dict\n",
    "            \n",
    "        details = {'name': business['name'],\n",
    "                   'Business ID': business['id'],\n",
    "                   'location': ' '.join(business['location']['display_address']),\n",
    "                   'alias': business['categories'][0]['alias'],\n",
    "                   'title': business['categories'][0]['title'],\n",
    "                   'rating': business['rating'],\n",
    "                   'review_count': business['review_count'],\n",
    "                   'price': business['price'],\n",
    "                   'latitude': business['coordinates']['latitude'],\n",
    "                   'longitude': business['coordinates']['longitude']\n",
    "                    }\n",
    "        # Add the new dictionary to the previous list\n",
    "        \n",
    "        parsed_data.append(details)\n",
    "    \n",
    "    # Create a DataFrame from the resulting list\n",
    "    \n",
    "    df_parsed_data = pd.DataFrame(parsed_data)\n",
    "\n",
    "    \n",
    "    return df_parsed_data"
   ]
  },
  {
   "cell_type": "markdown",
   "metadata": {
    "ExecuteTime": {
     "end_time": "2021-05-10T22:37:53.049725Z",
     "start_time": "2021-05-10T22:37:53.042727Z"
    }
   },
   "source": [
    "## Updating Requests for Pagination"
   ]
  },
  {
   "cell_type": "markdown",
   "metadata": {},
   "source": [
    "### ƒ: yelp_request_offset"
   ]
  },
  {
   "cell_type": "code",
   "execution_count": 14,
   "metadata": {
    "ExecuteTime": {
     "end_time": "2021-05-13T20:57:45.370487Z",
     "start_time": "2021-05-13T20:57:45.357486Z"
    },
    "code_folding": []
   },
   "outputs": [],
   "source": [
    "def yelp_request_offset(term, location, yelp_key, offset=0, verbose=False):\n",
    "    '''Adapted from Yelp API Lab: https://github.com/BenJMcCarty/dsc-yelp-api-lab/tree/solution'''\n",
    "    \n",
    "    url = 'https://api.yelp.com/v3/businesses/search'\n",
    "\n",
    "    headers = {\n",
    "            'Authorization': 'Bearer {}'.format(yelp_key),\n",
    "        }\n",
    "\n",
    "    url_params = {\n",
    "                    'term': term.replace(' ', '+'),\n",
    "                    'location': location.replace(' ', '+'),\n",
    "                    'limit': 50,\n",
    "                    'offset': offset\n",
    "                        }\n",
    "    \n",
    "    response = requests.get(url, headers=headers, params=url_params)\n",
    "    \n",
    "    if verbose == True:\n",
    "        print(response)\n",
    "        print(type(response.text))\n",
    "        print(response.text[:1000])\n",
    "        \n",
    "    return response.json()"
   ]
  },
  {
   "cell_type": "markdown",
   "metadata": {
    "ExecuteTime": {
     "end_time": "2021-05-10T21:52:21.177479Z",
     "start_time": "2021-05-10T21:52:21.167481Z"
    }
   },
   "source": [
    "#### Test 1"
   ]
  },
  {
   "cell_type": "code",
   "execution_count": 15,
   "metadata": {
    "ExecuteTime": {
     "end_time": "2021-05-13T20:57:45.386484Z",
     "start_time": "2021-05-13T20:57:45.373487Z"
    }
   },
   "outputs": [],
   "source": [
    "# test1 = yelp_request_offset('winery', 'San Diego', yelp_key)\n",
    "# test1"
   ]
  },
  {
   "cell_type": "code",
   "execution_count": 16,
   "metadata": {
    "ExecuteTime": {
     "end_time": "2021-05-13T20:57:45.401484Z",
     "start_time": "2021-05-13T20:57:45.388486Z"
    }
   },
   "outputs": [],
   "source": [
    "# test1.keys()"
   ]
  },
  {
   "cell_type": "code",
   "execution_count": 17,
   "metadata": {
    "ExecuteTime": {
     "end_time": "2021-05-13T20:57:45.417484Z",
     "start_time": "2021-05-13T20:57:45.403484Z"
    },
    "scrolled": true
   },
   "outputs": [],
   "source": [
    "# test1['total']"
   ]
  },
  {
   "cell_type": "code",
   "execution_count": 18,
   "metadata": {
    "ExecuteTime": {
     "end_time": "2021-05-13T20:57:45.432485Z",
     "start_time": "2021-05-13T20:57:45.420487Z"
    }
   },
   "outputs": [],
   "source": [
    "# test1['businesses'][0]"
   ]
  },
  {
   "cell_type": "markdown",
   "metadata": {},
   "source": [
    "# ƒ: GET BUSINESSES (ALL)"
   ]
  },
  {
   "cell_type": "code",
   "execution_count": 19,
   "metadata": {
    "ExecuteTime": {
     "end_time": "2021-05-13T20:57:45.448486Z",
     "start_time": "2021-05-13T20:57:45.435487Z"
    },
    "code_folding": []
   },
   "outputs": [],
   "source": [
    "def get_full_data(term, location, yelp_key, \n",
    "                  file_name = 'data/wineries_north_raw.csv'):\n",
    "    '''Requests all results from Yelp API and \n",
    "    saves as a .csv; and returns a DataFrame.'''\n",
    "\n",
    "    # Create a .csv to store results\n",
    "    blank_df = pd.DataFrame()\n",
    "    blank_df.to_csv(file_name)\n",
    "    \n",
    "    # Process first request to Yelp API and calculate number of pages \n",
    "    results = yelp_request_offset(term, location, yelp_key, offset=0, \n",
    "                                  verbose=False)\n",
    "    num_pages = results['total']//50+1\n",
    "    \n",
    "    # Print out confirmation feedback\n",
    "    print(f'For {term} and {location}: ')\n",
    "    print(f\"    Total number of results: {results['total']}.\")\n",
    "    print(f'    Total number of pages: {num_pages}.')\n",
    "    \n",
    "    # Create offset for additional results\n",
    "    offset = 0\n",
    "\n",
    "    # Retrieves remaining pages\n",
    "    for num in range(num_pages-1):\n",
    "        try:\n",
    "            # Process API request\n",
    "            results = yelp_request_offset(term, location, yelp_key,\n",
    "                                          offset=offset, verbose=False)\n",
    "            \n",
    "            # From results, take values from \"Businesses\" key and save\n",
    "            parsed_results = parse_data(results['businesses'])\n",
    "          \n",
    "            # Save resulting DF to .csv from top\n",
    "            parsed_results.to_csv(file_name, mode='a', index = False)\n",
    "            \n",
    "            # Increase offset to move to next \"page\" of data\n",
    "            offset += 50\n",
    "            \n",
    "        except:\n",
    "            # If error, print where the error happens\n",
    "            print(f'Error on page {num}.')\n",
    "            # Then save the results so far to the .csv\n",
    "            parsed_results.to_csv(file_name, mode='a', index = False)\n",
    "\n",
    "\n",
    "    return parsed_results"
   ]
  },
  {
   "cell_type": "code",
   "execution_count": 20,
   "metadata": {
    "ExecuteTime": {
     "end_time": "2021-05-13T20:58:03.985892Z",
     "start_time": "2021-05-13T20:57:45.450485Z"
    }
   },
   "outputs": [
    {
     "name": "stdout",
     "output_type": "stream",
     "text": [
      "For winery and Napa Valley: \n",
      "    Total number of results: 1100.\n",
      "    Total number of pages: 23.\n",
      "Error on page 20.\n",
      "Error on page 21.\n"
     ]
    },
    {
     "data": {
      "text/html": [
       "<div>\n",
       "<style scoped>\n",
       "    .dataframe tbody tr th:only-of-type {\n",
       "        vertical-align: middle;\n",
       "    }\n",
       "\n",
       "    .dataframe tbody tr th {\n",
       "        vertical-align: top;\n",
       "    }\n",
       "\n",
       "    .dataframe thead th {\n",
       "        text-align: right;\n",
       "    }\n",
       "</style>\n",
       "<table border=\"1\" class=\"dataframe\">\n",
       "  <thead>\n",
       "    <tr style=\"text-align: right;\">\n",
       "      <th></th>\n",
       "    </tr>\n",
       "  </thead>\n",
       "  <tbody>\n",
       "  </tbody>\n",
       "</table>\n",
       "</div>"
      ],
      "text/plain": [
       "Empty DataFrame\n",
       "Columns: []\n",
       "Index: []"
      ]
     },
     "execution_count": 20,
     "metadata": {},
     "output_type": "execute_result"
    }
   ],
   "source": [
    "get_full_data('winery', 'Napa Valley', yelp_key)"
   ]
  },
  {
   "cell_type": "markdown",
   "metadata": {},
   "source": [
    "# Cleaning Data"
   ]
  },
  {
   "cell_type": "markdown",
   "metadata": {},
   "source": [
    "# ƒ: clean_data"
   ]
  },
  {
   "cell_type": "markdown",
   "metadata": {},
   "source": [
    "Identifying, Filtering for, and Saving Top 2 Aliases"
   ]
  },
  {
   "cell_type": "code",
   "execution_count": 21,
   "metadata": {
    "ExecuteTime": {
     "end_time": "2021-05-13T20:58:04.001960Z",
     "start_time": "2021-05-13T20:58:03.988958Z"
    },
    "code_folding": [
     0
    ]
   },
   "outputs": [],
   "source": [
    "# def sort_by_aliases(raw_data = 'data/wineries_raw.csv'):\n",
    "\n",
    "#     # Read in businesses\n",
    "#     df1 = pd.read_csv(raw_data, header = 0)\n",
    "\n",
    "#     # Create new DF filtering alias and title columns\n",
    "#     df1_alias = df1.loc[:,['alias', 'title']]\n",
    "\n",
    "#     # Identify top 2 aliases \n",
    "#     df1_alias_count = df1_alias.groupby('alias').count().sort_values(['title'],\\\n",
    "#                                                             ascending=False)[:2]\n",
    "\n",
    "#     # Note: initially tried top 3, but it returned distributors, not wineries\n",
    "\n",
    "#     df1_alias_count.reset_index(inplace=True)\n",
    "    \n",
    "#     print(\"Top two aliases: \")\n",
    "#     print(df1_alias_count)\n",
    "\n",
    "#     # display them as a list\n",
    "#     aliases_top_2 = df1_alias_count['alias'].tolist()\n",
    "\n",
    "#     # Selecting rows based on condition and saving\n",
    "\n",
    "#     df2 = df1[df1['alias'].isin(aliases_top_2)]\n",
    "\n",
    "#     df2.to_csv('data/wineries_filtered_alias.csv', index = False)\n",
    "#     print(\"Saved to 'data/wineries_filtered_alias.csv'\")\n",
    "    \n",
    "#     return df2"
   ]
  },
  {
   "cell_type": "code",
   "execution_count": 5,
   "metadata": {
    "ExecuteTime": {
     "end_time": "2021-05-13T21:05:00.524828Z",
     "start_time": "2021-05-13T21:05:00.513827Z"
    }
   },
   "outputs": [],
   "source": [
    "def clean_data(existing_dataframe = None, raw_data = 'data/wineries_north_raw.csv'):\n",
    "    '''- Requires data from either an existing dataframe or an existing .csv file\n",
    "    - Takes raw business data from the Yelp API and filters for the top two\n",
    "    aliases (focusing on \"wineries\" and \"winetastingrooms\").\n",
    "    '''\n",
    "\n",
    "    # Read in businesses\n",
    "    df1 = pd.read_csv(raw_data, header = 1)\n",
    "\n",
    "    alias_index = df1['alias'].value_counts()[:2].index\n",
    "    print(alias_index)\n",
    "    \n",
    "    # Filtering rows based on condition\n",
    "\n",
    "    df2 = df1[df1['alias'].isin(alias_index)]\n",
    "    \n",
    "    # Resetting index\n",
    "    df2.reset_index(drop=True, inplace=True)\n",
    "    \n",
    "    # Save results\n",
    "    df2.to_csv('data/wineries_north_cleaned.csv',index = False)\n",
    "       \n",
    "    print(\"Saved to 'data/wineries_north_cleaned.csv'\")\n",
    "    \n",
    "    return df2"
   ]
  },
  {
   "cell_type": "code",
   "execution_count": 6,
   "metadata": {
    "ExecuteTime": {
     "end_time": "2021-05-13T21:05:00.617629Z",
     "start_time": "2021-05-13T21:05:00.558829Z"
    }
   },
   "outputs": [
    {
     "name": "stdout",
     "output_type": "stream",
     "text": [
      "Index(['wineries', 'winetours'], dtype='object')\n",
      "Saved to 'data/wineries_north_cleaned.csv'\n"
     ]
    },
    {
     "data": {
      "text/html": [
       "<div>\n",
       "<style scoped>\n",
       "    .dataframe tbody tr th:only-of-type {\n",
       "        vertical-align: middle;\n",
       "    }\n",
       "\n",
       "    .dataframe tbody tr th {\n",
       "        vertical-align: top;\n",
       "    }\n",
       "\n",
       "    .dataframe thead th {\n",
       "        text-align: right;\n",
       "    }\n",
       "</style>\n",
       "<table border=\"1\" class=\"dataframe\">\n",
       "  <thead>\n",
       "    <tr style=\"text-align: right;\">\n",
       "      <th></th>\n",
       "      <th>name</th>\n",
       "      <th>location</th>\n",
       "      <th>Business ID</th>\n",
       "      <th>alias</th>\n",
       "      <th>title</th>\n",
       "      <th>rating</th>\n",
       "      <th>review_count</th>\n",
       "      <th>price</th>\n",
       "      <th>latitude</th>\n",
       "      <th>longitude</th>\n",
       "    </tr>\n",
       "  </thead>\n",
       "  <tbody>\n",
       "    <tr>\n",
       "      <th>0</th>\n",
       "      <td>Hendry Vineyard and Winery</td>\n",
       "      <td>3104 Redwood Rd Napa, CA 94558</td>\n",
       "      <td>mO8n3zTLoFhlmcfQr7X_TQ</td>\n",
       "      <td>wineries</td>\n",
       "      <td>Wineries</td>\n",
       "      <td>5.0</td>\n",
       "      <td>658</td>\n",
       "      <td>$$</td>\n",
       "      <td>38.32168</td>\n",
       "      <td>-122.34481</td>\n",
       "    </tr>\n",
       "    <tr>\n",
       "      <th>1</th>\n",
       "      <td>Domaine Carneros</td>\n",
       "      <td>1240 Duhig Rd Napa, CA 94559</td>\n",
       "      <td>8eGTOeEQpUpYb89ISug3ag</td>\n",
       "      <td>wineries</td>\n",
       "      <td>Wineries</td>\n",
       "      <td>4.0</td>\n",
       "      <td>2239</td>\n",
       "      <td>$$</td>\n",
       "      <td>38.25553421701142</td>\n",
       "      <td>-122.35139091165661</td>\n",
       "    </tr>\n",
       "    <tr>\n",
       "      <th>2</th>\n",
       "      <td>Paraduxx Winery</td>\n",
       "      <td>7257 Silverado Trl Napa, CA 94558</td>\n",
       "      <td>cBFZALrZbLV5XBsiPcgknQ</td>\n",
       "      <td>wineries</td>\n",
       "      <td>Wineries</td>\n",
       "      <td>4.5</td>\n",
       "      <td>373</td>\n",
       "      <td>$$</td>\n",
       "      <td>38.43548</td>\n",
       "      <td>-122.35143</td>\n",
       "    </tr>\n",
       "    <tr>\n",
       "      <th>3</th>\n",
       "      <td>Jarvis Winery</td>\n",
       "      <td>2970 Monticello Rd Napa, CA 94558</td>\n",
       "      <td>NPkAqW68Og5eBofEpPiRXQ</td>\n",
       "      <td>wineries</td>\n",
       "      <td>Wineries</td>\n",
       "      <td>4.5</td>\n",
       "      <td>209</td>\n",
       "      <td>$$$</td>\n",
       "      <td>38.35701</td>\n",
       "      <td>-122.21362</td>\n",
       "    </tr>\n",
       "    <tr>\n",
       "      <th>4</th>\n",
       "      <td>White Rock Vineyards</td>\n",
       "      <td>1112 Loma Vista Dr Napa, CA 94558</td>\n",
       "      <td>shbhrTpVLOdql8hNGC9NDw</td>\n",
       "      <td>wineries</td>\n",
       "      <td>Wineries</td>\n",
       "      <td>5.0</td>\n",
       "      <td>55</td>\n",
       "      <td>$$</td>\n",
       "      <td>38.377683</td>\n",
       "      <td>-122.286565</td>\n",
       "    </tr>\n",
       "    <tr>\n",
       "      <th>...</th>\n",
       "      <td>...</td>\n",
       "      <td>...</td>\n",
       "      <td>...</td>\n",
       "      <td>...</td>\n",
       "      <td>...</td>\n",
       "      <td>...</td>\n",
       "      <td>...</td>\n",
       "      <td>...</td>\n",
       "      <td>...</td>\n",
       "      <td>...</td>\n",
       "    </tr>\n",
       "    <tr>\n",
       "      <th>398</th>\n",
       "      <td>Andretti Winery</td>\n",
       "      <td>1625 Trancas St NAPA, CA 94558</td>\n",
       "      <td>NKCMqIlRopcSMA15JpeyJg</td>\n",
       "      <td>wineries</td>\n",
       "      <td>Wineries</td>\n",
       "      <td>3.5</td>\n",
       "      <td>311</td>\n",
       "      <td>$$</td>\n",
       "      <td>38.3215163</td>\n",
       "      <td>-122.3041079</td>\n",
       "    </tr>\n",
       "    <tr>\n",
       "      <th>399</th>\n",
       "      <td>Lionstone International</td>\n",
       "      <td>21481 8th St E Sonoma, CA 95476</td>\n",
       "      <td>pW9QPUkm2_tTXLCzyQ6qvg</td>\n",
       "      <td>wineries</td>\n",
       "      <td>Wineries</td>\n",
       "      <td>1.0</td>\n",
       "      <td>1</td>\n",
       "      <td>NaN</td>\n",
       "      <td>38.262062</td>\n",
       "      <td>-122.442036</td>\n",
       "    </tr>\n",
       "    <tr>\n",
       "      <th>400</th>\n",
       "      <td>Napa Vinyards</td>\n",
       "      <td>Napa, CA 94558</td>\n",
       "      <td>UwgQWRkTzlFnw3-QYCaBlQ</td>\n",
       "      <td>wineries</td>\n",
       "      <td>Wineries</td>\n",
       "      <td>1.0</td>\n",
       "      <td>1</td>\n",
       "      <td>NaN</td>\n",
       "      <td>38.38326</td>\n",
       "      <td>-122.31306</td>\n",
       "    </tr>\n",
       "    <tr>\n",
       "      <th>401</th>\n",
       "      <td>Cook Vinyard Management</td>\n",
       "      <td>19626 Eighth St E Sonoma, CA 95476</td>\n",
       "      <td>LxMkyxBokxu6iRIsuMF5Tw</td>\n",
       "      <td>wineries</td>\n",
       "      <td>Wineries</td>\n",
       "      <td>1.0</td>\n",
       "      <td>1</td>\n",
       "      <td>NaN</td>\n",
       "      <td>38.2862614</td>\n",
       "      <td>-122.434893</td>\n",
       "    </tr>\n",
       "    <tr>\n",
       "      <th>402</th>\n",
       "      <td>Top It Off Bottling</td>\n",
       "      <td>21481 8th St E Ste 1 Sonoma, CA 95476</td>\n",
       "      <td>Jt-VYmagp5ETW1v_G_Ae0g</td>\n",
       "      <td>wineries</td>\n",
       "      <td>Wineries</td>\n",
       "      <td>1.0</td>\n",
       "      <td>2</td>\n",
       "      <td>NaN</td>\n",
       "      <td>38.26248</td>\n",
       "      <td>-122.44207</td>\n",
       "    </tr>\n",
       "  </tbody>\n",
       "</table>\n",
       "<p>403 rows × 10 columns</p>\n",
       "</div>"
      ],
      "text/plain": [
       "                           name                               location  \\\n",
       "0    Hendry Vineyard and Winery         3104 Redwood Rd Napa, CA 94558   \n",
       "1              Domaine Carneros           1240 Duhig Rd Napa, CA 94559   \n",
       "2               Paraduxx Winery      7257 Silverado Trl Napa, CA 94558   \n",
       "3                 Jarvis Winery      2970 Monticello Rd Napa, CA 94558   \n",
       "4          White Rock Vineyards      1112 Loma Vista Dr Napa, CA 94558   \n",
       "..                          ...                                    ...   \n",
       "398             Andretti Winery         1625 Trancas St NAPA, CA 94558   \n",
       "399     Lionstone International        21481 8th St E Sonoma, CA 95476   \n",
       "400               Napa Vinyards                         Napa, CA 94558   \n",
       "401     Cook Vinyard Management     19626 Eighth St E Sonoma, CA 95476   \n",
       "402         Top It Off Bottling  21481 8th St E Ste 1 Sonoma, CA 95476   \n",
       "\n",
       "                Business ID     alias     title rating review_count price  \\\n",
       "0    mO8n3zTLoFhlmcfQr7X_TQ  wineries  Wineries    5.0          658    $$   \n",
       "1    8eGTOeEQpUpYb89ISug3ag  wineries  Wineries    4.0         2239    $$   \n",
       "2    cBFZALrZbLV5XBsiPcgknQ  wineries  Wineries    4.5          373    $$   \n",
       "3    NPkAqW68Og5eBofEpPiRXQ  wineries  Wineries    4.5          209   $$$   \n",
       "4    shbhrTpVLOdql8hNGC9NDw  wineries  Wineries    5.0           55    $$   \n",
       "..                      ...       ...       ...    ...          ...   ...   \n",
       "398  NKCMqIlRopcSMA15JpeyJg  wineries  Wineries    3.5          311    $$   \n",
       "399  pW9QPUkm2_tTXLCzyQ6qvg  wineries  Wineries    1.0            1   NaN   \n",
       "400  UwgQWRkTzlFnw3-QYCaBlQ  wineries  Wineries    1.0            1   NaN   \n",
       "401  LxMkyxBokxu6iRIsuMF5Tw  wineries  Wineries    1.0            1   NaN   \n",
       "402  Jt-VYmagp5ETW1v_G_Ae0g  wineries  Wineries    1.0            2   NaN   \n",
       "\n",
       "              latitude            longitude  \n",
       "0             38.32168           -122.34481  \n",
       "1    38.25553421701142  -122.35139091165661  \n",
       "2             38.43548           -122.35143  \n",
       "3             38.35701           -122.21362  \n",
       "4            38.377683          -122.286565  \n",
       "..                 ...                  ...  \n",
       "398         38.3215163         -122.3041079  \n",
       "399          38.262062          -122.442036  \n",
       "400           38.38326           -122.31306  \n",
       "401         38.2862614          -122.434893  \n",
       "402           38.26248           -122.44207  \n",
       "\n",
       "[403 rows x 10 columns]"
      ]
     },
     "execution_count": 6,
     "metadata": {},
     "output_type": "execute_result"
    }
   ],
   "source": [
    "df_filtered = clean_data()\n",
    "df_filtered"
   ]
  },
  {
   "cell_type": "markdown",
   "metadata": {
    "ExecuteTime": {
     "end_time": "2021-05-13T17:51:05.843625Z",
     "start_time": "2021-05-13T17:51:05.832627Z"
    }
   },
   "source": [
    "# ƒ: convert_price"
   ]
  },
  {
   "cell_type": "code",
   "execution_count": 7,
   "metadata": {
    "ExecuteTime": {
     "end_time": "2021-05-13T21:05:04.029730Z",
     "start_time": "2021-05-13T21:05:04.024731Z"
    }
   },
   "outputs": [],
   "source": [
    "def convert_price(dataframe):\n",
    "    ''' - Requires a dataframe with the 'price' column elements being NaN,\n",
    "    $, $$, or $$$.\n",
    "    - Takes a pre-existing dataframe and adds a column to store the \\\n",
    "    conversion from $ to an integer.'''\n",
    "    \n",
    "    # Converting $s to integers, then saving to new column.\n",
    "    dataframe['price_converted'] = dataframe.loc[:,'price'] \\\n",
    "    .map({np.nan:0, '$':1, '$$':2, '$$$':3, '$$$$':4, '$$$$$':5})\n",
    "    \n",
    "    \n",
    "    # Saves results to new file\n",
    "    dataframe.to_csv('data/wineries_north_price_converted.csv',index = False)\n",
    "    \n",
    "    return dataframe"
   ]
  },
  {
   "cell_type": "code",
   "execution_count": 8,
   "metadata": {
    "ExecuteTime": {
     "end_time": "2021-05-13T21:05:07.626604Z",
     "start_time": "2021-05-13T21:05:07.594594Z"
    }
   },
   "outputs": [
    {
     "data": {
      "text/html": [
       "<div>\n",
       "<style scoped>\n",
       "    .dataframe tbody tr th:only-of-type {\n",
       "        vertical-align: middle;\n",
       "    }\n",
       "\n",
       "    .dataframe tbody tr th {\n",
       "        vertical-align: top;\n",
       "    }\n",
       "\n",
       "    .dataframe thead th {\n",
       "        text-align: right;\n",
       "    }\n",
       "</style>\n",
       "<table border=\"1\" class=\"dataframe\">\n",
       "  <thead>\n",
       "    <tr style=\"text-align: right;\">\n",
       "      <th></th>\n",
       "      <th>name</th>\n",
       "      <th>location</th>\n",
       "      <th>Business ID</th>\n",
       "      <th>alias</th>\n",
       "      <th>title</th>\n",
       "      <th>rating</th>\n",
       "      <th>review_count</th>\n",
       "      <th>price</th>\n",
       "      <th>latitude</th>\n",
       "      <th>longitude</th>\n",
       "      <th>price_converted</th>\n",
       "    </tr>\n",
       "  </thead>\n",
       "  <tbody>\n",
       "    <tr>\n",
       "      <th>0</th>\n",
       "      <td>Hendry Vineyard and Winery</td>\n",
       "      <td>3104 Redwood Rd Napa, CA 94558</td>\n",
       "      <td>mO8n3zTLoFhlmcfQr7X_TQ</td>\n",
       "      <td>wineries</td>\n",
       "      <td>Wineries</td>\n",
       "      <td>5.0</td>\n",
       "      <td>658</td>\n",
       "      <td>$$</td>\n",
       "      <td>38.32168</td>\n",
       "      <td>-122.34481</td>\n",
       "      <td>2</td>\n",
       "    </tr>\n",
       "    <tr>\n",
       "      <th>1</th>\n",
       "      <td>Domaine Carneros</td>\n",
       "      <td>1240 Duhig Rd Napa, CA 94559</td>\n",
       "      <td>8eGTOeEQpUpYb89ISug3ag</td>\n",
       "      <td>wineries</td>\n",
       "      <td>Wineries</td>\n",
       "      <td>4.0</td>\n",
       "      <td>2239</td>\n",
       "      <td>$$</td>\n",
       "      <td>38.25553421701142</td>\n",
       "      <td>-122.35139091165661</td>\n",
       "      <td>2</td>\n",
       "    </tr>\n",
       "    <tr>\n",
       "      <th>2</th>\n",
       "      <td>Paraduxx Winery</td>\n",
       "      <td>7257 Silverado Trl Napa, CA 94558</td>\n",
       "      <td>cBFZALrZbLV5XBsiPcgknQ</td>\n",
       "      <td>wineries</td>\n",
       "      <td>Wineries</td>\n",
       "      <td>4.5</td>\n",
       "      <td>373</td>\n",
       "      <td>$$</td>\n",
       "      <td>38.43548</td>\n",
       "      <td>-122.35143</td>\n",
       "      <td>2</td>\n",
       "    </tr>\n",
       "    <tr>\n",
       "      <th>3</th>\n",
       "      <td>Jarvis Winery</td>\n",
       "      <td>2970 Monticello Rd Napa, CA 94558</td>\n",
       "      <td>NPkAqW68Og5eBofEpPiRXQ</td>\n",
       "      <td>wineries</td>\n",
       "      <td>Wineries</td>\n",
       "      <td>4.5</td>\n",
       "      <td>209</td>\n",
       "      <td>$$$</td>\n",
       "      <td>38.35701</td>\n",
       "      <td>-122.21362</td>\n",
       "      <td>3</td>\n",
       "    </tr>\n",
       "    <tr>\n",
       "      <th>4</th>\n",
       "      <td>White Rock Vineyards</td>\n",
       "      <td>1112 Loma Vista Dr Napa, CA 94558</td>\n",
       "      <td>shbhrTpVLOdql8hNGC9NDw</td>\n",
       "      <td>wineries</td>\n",
       "      <td>Wineries</td>\n",
       "      <td>5.0</td>\n",
       "      <td>55</td>\n",
       "      <td>$$</td>\n",
       "      <td>38.377683</td>\n",
       "      <td>-122.286565</td>\n",
       "      <td>2</td>\n",
       "    </tr>\n",
       "    <tr>\n",
       "      <th>...</th>\n",
       "      <td>...</td>\n",
       "      <td>...</td>\n",
       "      <td>...</td>\n",
       "      <td>...</td>\n",
       "      <td>...</td>\n",
       "      <td>...</td>\n",
       "      <td>...</td>\n",
       "      <td>...</td>\n",
       "      <td>...</td>\n",
       "      <td>...</td>\n",
       "      <td>...</td>\n",
       "    </tr>\n",
       "    <tr>\n",
       "      <th>398</th>\n",
       "      <td>Andretti Winery</td>\n",
       "      <td>1625 Trancas St NAPA, CA 94558</td>\n",
       "      <td>NKCMqIlRopcSMA15JpeyJg</td>\n",
       "      <td>wineries</td>\n",
       "      <td>Wineries</td>\n",
       "      <td>3.5</td>\n",
       "      <td>311</td>\n",
       "      <td>$$</td>\n",
       "      <td>38.3215163</td>\n",
       "      <td>-122.3041079</td>\n",
       "      <td>2</td>\n",
       "    </tr>\n",
       "    <tr>\n",
       "      <th>399</th>\n",
       "      <td>Lionstone International</td>\n",
       "      <td>21481 8th St E Sonoma, CA 95476</td>\n",
       "      <td>pW9QPUkm2_tTXLCzyQ6qvg</td>\n",
       "      <td>wineries</td>\n",
       "      <td>Wineries</td>\n",
       "      <td>1.0</td>\n",
       "      <td>1</td>\n",
       "      <td>NaN</td>\n",
       "      <td>38.262062</td>\n",
       "      <td>-122.442036</td>\n",
       "      <td>0</td>\n",
       "    </tr>\n",
       "    <tr>\n",
       "      <th>400</th>\n",
       "      <td>Napa Vinyards</td>\n",
       "      <td>Napa, CA 94558</td>\n",
       "      <td>UwgQWRkTzlFnw3-QYCaBlQ</td>\n",
       "      <td>wineries</td>\n",
       "      <td>Wineries</td>\n",
       "      <td>1.0</td>\n",
       "      <td>1</td>\n",
       "      <td>NaN</td>\n",
       "      <td>38.38326</td>\n",
       "      <td>-122.31306</td>\n",
       "      <td>0</td>\n",
       "    </tr>\n",
       "    <tr>\n",
       "      <th>401</th>\n",
       "      <td>Cook Vinyard Management</td>\n",
       "      <td>19626 Eighth St E Sonoma, CA 95476</td>\n",
       "      <td>LxMkyxBokxu6iRIsuMF5Tw</td>\n",
       "      <td>wineries</td>\n",
       "      <td>Wineries</td>\n",
       "      <td>1.0</td>\n",
       "      <td>1</td>\n",
       "      <td>NaN</td>\n",
       "      <td>38.2862614</td>\n",
       "      <td>-122.434893</td>\n",
       "      <td>0</td>\n",
       "    </tr>\n",
       "    <tr>\n",
       "      <th>402</th>\n",
       "      <td>Top It Off Bottling</td>\n",
       "      <td>21481 8th St E Ste 1 Sonoma, CA 95476</td>\n",
       "      <td>Jt-VYmagp5ETW1v_G_Ae0g</td>\n",
       "      <td>wineries</td>\n",
       "      <td>Wineries</td>\n",
       "      <td>1.0</td>\n",
       "      <td>2</td>\n",
       "      <td>NaN</td>\n",
       "      <td>38.26248</td>\n",
       "      <td>-122.44207</td>\n",
       "      <td>0</td>\n",
       "    </tr>\n",
       "  </tbody>\n",
       "</table>\n",
       "<p>403 rows × 11 columns</p>\n",
       "</div>"
      ],
      "text/plain": [
       "                           name                               location  \\\n",
       "0    Hendry Vineyard and Winery         3104 Redwood Rd Napa, CA 94558   \n",
       "1              Domaine Carneros           1240 Duhig Rd Napa, CA 94559   \n",
       "2               Paraduxx Winery      7257 Silverado Trl Napa, CA 94558   \n",
       "3                 Jarvis Winery      2970 Monticello Rd Napa, CA 94558   \n",
       "4          White Rock Vineyards      1112 Loma Vista Dr Napa, CA 94558   \n",
       "..                          ...                                    ...   \n",
       "398             Andretti Winery         1625 Trancas St NAPA, CA 94558   \n",
       "399     Lionstone International        21481 8th St E Sonoma, CA 95476   \n",
       "400               Napa Vinyards                         Napa, CA 94558   \n",
       "401     Cook Vinyard Management     19626 Eighth St E Sonoma, CA 95476   \n",
       "402         Top It Off Bottling  21481 8th St E Ste 1 Sonoma, CA 95476   \n",
       "\n",
       "                Business ID     alias     title rating review_count price  \\\n",
       "0    mO8n3zTLoFhlmcfQr7X_TQ  wineries  Wineries    5.0          658    $$   \n",
       "1    8eGTOeEQpUpYb89ISug3ag  wineries  Wineries    4.0         2239    $$   \n",
       "2    cBFZALrZbLV5XBsiPcgknQ  wineries  Wineries    4.5          373    $$   \n",
       "3    NPkAqW68Og5eBofEpPiRXQ  wineries  Wineries    4.5          209   $$$   \n",
       "4    shbhrTpVLOdql8hNGC9NDw  wineries  Wineries    5.0           55    $$   \n",
       "..                      ...       ...       ...    ...          ...   ...   \n",
       "398  NKCMqIlRopcSMA15JpeyJg  wineries  Wineries    3.5          311    $$   \n",
       "399  pW9QPUkm2_tTXLCzyQ6qvg  wineries  Wineries    1.0            1   NaN   \n",
       "400  UwgQWRkTzlFnw3-QYCaBlQ  wineries  Wineries    1.0            1   NaN   \n",
       "401  LxMkyxBokxu6iRIsuMF5Tw  wineries  Wineries    1.0            1   NaN   \n",
       "402  Jt-VYmagp5ETW1v_G_Ae0g  wineries  Wineries    1.0            2   NaN   \n",
       "\n",
       "              latitude            longitude  price_converted  \n",
       "0             38.32168           -122.34481                2  \n",
       "1    38.25553421701142  -122.35139091165661                2  \n",
       "2             38.43548           -122.35143                2  \n",
       "3             38.35701           -122.21362                3  \n",
       "4            38.377683          -122.286565                2  \n",
       "..                 ...                  ...              ...  \n",
       "398         38.3215163         -122.3041079                2  \n",
       "399          38.262062          -122.442036                0  \n",
       "400           38.38326           -122.31306                0  \n",
       "401         38.2862614          -122.434893                0  \n",
       "402           38.26248           -122.44207                0  \n",
       "\n",
       "[403 rows x 11 columns]"
      ]
     },
     "execution_count": 8,
     "metadata": {},
     "output_type": "execute_result"
    }
   ],
   "source": [
    "convert_price(df_filtered)"
   ]
  },
  {
   "cell_type": "markdown",
   "metadata": {},
   "source": [
    "# Part 3 -  Create ETL pipeline for the restaurant review data from the API"
   ]
  },
  {
   "cell_type": "markdown",
   "metadata": {},
   "source": [
    "You've done this for the Businesses, now you need to do this for reviews. You will follow the same process, but your functions will be specific to reviews. Above you have a model of the functions you will need to write, and how to pull them together in one script. For this part, you have the process below "
   ]
  },
  {
   "cell_type": "markdown",
   "metadata": {},
   "source": [
    "## Getting Business IDs"
   ]
  },
  {
   "cell_type": "markdown",
   "metadata": {},
   "source": [
    "- In order to pull the reveiws, you will need the business ids. So your first step will be to get all of the business ids from your businesses csv. "
   ]
  },
  {
   "cell_type": "markdown",
   "metadata": {},
   "source": [
    "### Open file and slice ID"
   ]
  },
  {
   "cell_type": "markdown",
   "metadata": {},
   "source": [
    "1. Open data/wineries.csv\n",
    "2. Slice out the 'name' and 'id' columns for each row"
   ]
  },
  {
   "cell_type": "code",
   "execution_count": 26,
   "metadata": {
    "ExecuteTime": {
     "end_time": "2021-05-13T20:58:04.157421Z",
     "start_time": "2021-05-13T20:58:04.129337Z"
    }
   },
   "outputs": [
    {
     "data": {
      "text/plain": [
       "403"
      ]
     },
     "execution_count": 26,
     "metadata": {},
     "output_type": "execute_result"
    }
   ],
   "source": [
    "df_saved = pd.read_csv(\"data/wineries_north_price_converted.csv\")\n",
    "df_saved.reset_index(drop=True, inplace=True)\n",
    "\n",
    "# Slice out IDs, then save them to a list\n",
    "\n",
    "df_saved_id = df_saved['Business ID'].to_list()\n",
    "       \n",
    "len(df_saved_id)"
   ]
  },
  {
   "cell_type": "markdown",
   "metadata": {},
   "source": [
    "## Requesting Reviews"
   ]
  },
  {
   "cell_type": "markdown",
   "metadata": {},
   "source": [
    "- Write a function that takes a business id and makes a call to the API for reviews.\n"
   ]
  },
  {
   "cell_type": "markdown",
   "metadata": {},
   "source": [
    "### ƒ: get_reviews"
   ]
  },
  {
   "cell_type": "code",
   "execution_count": 27,
   "metadata": {
    "ExecuteTime": {
     "end_time": "2021-05-13T20:58:04.172482Z",
     "start_time": "2021-05-13T20:58:04.160425Z"
    },
    "code_folding": []
   },
   "outputs": [],
   "source": [
    "def get_reviews(business_ID, yelp_key, verbose=False):\n",
    "    '''Adapted from Yelp API Lab: https://github.com/BenJMcCarty/dsc-yelp-api-lab/tree/solution'''\n",
    "    \n",
    "    url = 'https://api.yelp.com/v3/businesses/'+ business_ID + '/reviews'\n",
    "\n",
    "    headers = {\n",
    "            'Authorization': 'Bearer {}'.format(yelp_key),\n",
    "        }\n",
    "\n",
    "    response = requests.get(url, headers=headers)\n",
    "\n",
    "    if verbose == True:\n",
    "        print(response)\n",
    "        print(type(response.text))\n",
    "        print(response.text[:1000])\n",
    "\n",
    "\n",
    "    return response.json()"
   ]
  },
  {
   "cell_type": "markdown",
   "metadata": {},
   "source": [
    "# ƒ: Parse Reviews for final GET"
   ]
  },
  {
   "cell_type": "code",
   "execution_count": 28,
   "metadata": {
    "ExecuteTime": {
     "end_time": "2021-05-13T20:58:04.188225Z",
     "start_time": "2021-05-13T20:58:04.175480Z"
    },
    "code_folding": []
   },
   "outputs": [],
   "source": [
    "def parse_reviews(review):\n",
    "    '''Adapted from Tyrell's code'''  \n",
    "\n",
    "    \n",
    "    # Loop through each review in the list of reviews\n",
    "    # Add specific k:v pairs to a dictionary      \n",
    "    details = {\n",
    "        'Reviewer Name': review['user']['name'],\n",
    "        'Review Rating': review['rating'],\n",
    "        'Review Text': review['text'],\n",
    "        'Time Created': review['time_created']\n",
    "        }\n",
    "\n",
    "\n",
    "    # Create a DataFrame from the resulting dictionary\n",
    "    \n",
    "    df_parsed_reviews = pd.DataFrame.from_dict([details])\n",
    "   \n",
    "    return df_parsed_reviews"
   ]
  },
  {
   "cell_type": "markdown",
   "metadata": {
    "ExecuteTime": {
     "end_time": "2021-05-12T18:10:38.397744Z",
     "start_time": "2021-05-12T18:10:38.381718Z"
    }
   },
   "source": [
    "# ƒ: GET REVIEWS (ALL)"
   ]
  },
  {
   "cell_type": "code",
   "execution_count": 31,
   "metadata": {
    "ExecuteTime": {
     "end_time": "2021-05-13T21:02:33.338744Z",
     "start_time": "2021-05-13T21:02:33.320479Z"
    }
   },
   "outputs": [],
   "source": [
    "def get_all_reviews(list_of_biz_ids, yelp_key, file_name = 'data/reviews_north_raw.csv'):\n",
    "    '''Requests all review results for given business IDs from Yelp API; \\\n",
    "    saves as a .csv; and returns a DataFrame.'''\n",
    "    \n",
    "    # Create a starter empty DataFrame and save to .csv to store data.    \n",
    "    blank_df = pd.DataFrame(columns= ['Business ID','Reviewer Name',\n",
    "                                      'Review Rating', 'Review Text',\n",
    "                                      'Time Created'])\n",
    "    blank_df.to_csv(file_name, index = False)\n",
    "        \n",
    "    for i in list_of_biz_ids:\n",
    "        try:\n",
    "            \n",
    "            # Process API request for 3 reviews per business:\n",
    "            raw_reviews = get_reviews(i, yelp_key)\n",
    "\n",
    "            for review in raw_reviews['reviews']:\n",
    "                \n",
    "\n",
    "                # From results, take values from \"Businesses\" key and save\n",
    "                parsed_reviews = parse_reviews(review) \n",
    "\n",
    "                parsed_reviews['Business ID'] = i\n",
    "                \n",
    "                # H2: save results to df\n",
    "                parsed_reviews.to_csv(file_name, mode='a', index = False,\n",
    "                                      header = False)\n",
    "\n",
    "        except:\n",
    "            # If error, print where the error happens\n",
    "            print(f'Error at reiew: {i}.')\n",
    "            # Then save the results so far to the .csv\n",
    "            parsed_reviews.to_csv(file_name, mode='a', index = False, \n",
    "                                  header = False)\n",
    "\n",
    "    try:\n",
    "        reviews1 = pd.read_csv(file_name)\n",
    "        return reviews1\n",
    "    except:\n",
    "        return parsed_reviews"
   ]
  },
  {
   "cell_type": "markdown",
   "metadata": {},
   "source": [
    "#### Test GET REVIEWS"
   ]
  },
  {
   "cell_type": "code",
   "execution_count": 30,
   "metadata": {
    "ExecuteTime": {
     "end_time": "2021-05-13T21:01:47.045757Z",
     "start_time": "2021-05-13T21:00:23.214007Z"
    },
    "scrolled": false
   },
   "outputs": [
    {
     "ename": "NameError",
     "evalue": "name 'num' is not defined",
     "output_type": "error",
     "traceback": [
      "\u001b[1;31m---------------------------------------------------------------------------\u001b[0m",
      "\u001b[1;31mKeyError\u001b[0m                                  Traceback (most recent call last)",
      "\u001b[1;32m<ipython-input-29-43fa956e5e37>\u001b[0m in \u001b[0;36mget_all_reviews\u001b[1;34m(list_of_biz_ids, yelp_key, file_name)\u001b[0m\n\u001b[0;32m     16\u001b[0m \u001b[1;33m\u001b[0m\u001b[0m\n\u001b[1;32m---> 17\u001b[1;33m             \u001b[1;32mfor\u001b[0m \u001b[0mreview\u001b[0m \u001b[1;32min\u001b[0m \u001b[0mraw_reviews\u001b[0m\u001b[1;33m[\u001b[0m\u001b[1;34m'reviews'\u001b[0m\u001b[1;33m]\u001b[0m\u001b[1;33m:\u001b[0m\u001b[1;33m\u001b[0m\u001b[1;33m\u001b[0m\u001b[0m\n\u001b[0m\u001b[0;32m     18\u001b[0m \u001b[1;33m\u001b[0m\u001b[0m\n",
      "\u001b[1;31mKeyError\u001b[0m: 'reviews'",
      "\nDuring handling of the above exception, another exception occurred:\n",
      "\u001b[1;31mNameError\u001b[0m                                 Traceback (most recent call last)",
      "\u001b[1;32m<ipython-input-30-109062786b00>\u001b[0m in \u001b[0;36m<module>\u001b[1;34m\u001b[0m\n\u001b[1;32m----> 1\u001b[1;33m \u001b[0mtest_all_funct\u001b[0m \u001b[1;33m=\u001b[0m \u001b[0mget_all_reviews\u001b[0m\u001b[1;33m(\u001b[0m\u001b[0mdf_saved_id\u001b[0m\u001b[1;33m,\u001b[0m \u001b[0myelp_key\u001b[0m\u001b[1;33m)\u001b[0m\u001b[1;33m\u001b[0m\u001b[1;33m\u001b[0m\u001b[0m\n\u001b[0m\u001b[0;32m      2\u001b[0m \u001b[0mtest_all_funct\u001b[0m\u001b[1;33m\u001b[0m\u001b[1;33m\u001b[0m\u001b[0m\n",
      "\u001b[1;32m<ipython-input-29-43fa956e5e37>\u001b[0m in \u001b[0;36mget_all_reviews\u001b[1;34m(list_of_biz_ids, yelp_key, file_name)\u001b[0m\n\u001b[0;32m     29\u001b[0m         \u001b[1;32mexcept\u001b[0m\u001b[1;33m:\u001b[0m\u001b[1;33m\u001b[0m\u001b[1;33m\u001b[0m\u001b[0m\n\u001b[0;32m     30\u001b[0m             \u001b[1;31m# If error, print where the error happens\u001b[0m\u001b[1;33m\u001b[0m\u001b[1;33m\u001b[0m\u001b[1;33m\u001b[0m\u001b[0m\n\u001b[1;32m---> 31\u001b[1;33m             \u001b[0mprint\u001b[0m\u001b[1;33m(\u001b[0m\u001b[1;34mf'Error on page {num}.'\u001b[0m\u001b[1;33m)\u001b[0m\u001b[1;33m\u001b[0m\u001b[1;33m\u001b[0m\u001b[0m\n\u001b[0m\u001b[0;32m     32\u001b[0m             \u001b[1;31m# Then save the results so far to the .csv\u001b[0m\u001b[1;33m\u001b[0m\u001b[1;33m\u001b[0m\u001b[1;33m\u001b[0m\u001b[0m\n\u001b[0;32m     33\u001b[0m             parsed_reviews.to_csv(file_name, mode='a', index = False, \n",
      "\u001b[1;31mNameError\u001b[0m: name 'num' is not defined"
     ]
    }
   ],
   "source": [
    "test_all_funct = get_all_reviews(df_saved_id, yelp_key)\n",
    "test_all_funct"
   ]
  },
  {
   "cell_type": "markdown",
   "metadata": {},
   "source": [
    "# Joining DFs"
   ]
  },
  {
   "cell_type": "code",
   "execution_count": 29,
   "metadata": {
    "ExecuteTime": {
     "end_time": "2021-05-13T18:49:57.175691Z",
     "start_time": "2021-05-13T18:49:57.161660Z"
    }
   },
   "outputs": [],
   "source": [
    "# df_details = pd.read_csv(\"data/wineries_price_converted.csv\")\n",
    "# df_reviews = pd.read_csv(\"data/reviews_raw.csv\")"
   ]
  },
  {
   "cell_type": "code",
   "execution_count": 30,
   "metadata": {
    "ExecuteTime": {
     "end_time": "2021-05-13T18:49:57.191658Z",
     "start_time": "2021-05-13T18:49:57.177668Z"
    }
   },
   "outputs": [],
   "source": [
    "# df_details.info()"
   ]
  },
  {
   "cell_type": "code",
   "execution_count": 31,
   "metadata": {
    "ExecuteTime": {
     "end_time": "2021-05-13T18:49:57.207666Z",
     "start_time": "2021-05-13T18:49:57.194661Z"
    }
   },
   "outputs": [],
   "source": [
    "# df_reviews.info()"
   ]
  },
  {
   "cell_type": "code",
   "execution_count": 32,
   "metadata": {
    "ExecuteTime": {
     "end_time": "2021-05-13T18:49:57.223662Z",
     "start_time": "2021-05-13T18:49:57.209659Z"
    }
   },
   "outputs": [],
   "source": [
    "# df_merged = df_details.merge(df_reviews, how='outer', on='Business ID')\n",
    "# df_merged"
   ]
  },
  {
   "cell_type": "code",
   "execution_count": 33,
   "metadata": {
    "ExecuteTime": {
     "end_time": "2021-05-13T18:49:57.239695Z",
     "start_time": "2021-05-13T18:49:57.225658Z"
    }
   },
   "outputs": [],
   "source": [
    "# df_merged.info()"
   ]
  },
  {
   "cell_type": "markdown",
   "metadata": {},
   "source": [
    "----"
   ]
  },
  {
   "cell_type": "markdown",
   "metadata": {},
   "source": [
    "# Part 4 -  Using python and pandas, write code to answer the questions below. "
   ]
  },
  {
   "cell_type": "markdown",
   "metadata": {},
   "source": [
    "**Reviews**\n",
    "\n",
    "Which are the 5 most reviewed businesses in your dataset?"
   ]
  },
  {
   "cell_type": "code",
   "execution_count": 34,
   "metadata": {
    "ExecuteTime": {
     "end_time": "2021-05-13T18:49:57.255659Z",
     "start_time": "2021-05-13T18:49:57.241662Z"
    }
   },
   "outputs": [],
   "source": [
    "# df_saved.sort_values('review_count', ascending=False).head()[['name','review_count']]"
   ]
  },
  {
   "cell_type": "markdown",
   "metadata": {},
   "source": [
    "What is the highest rating received in your data set and how many businesses have that rating?"
   ]
  },
  {
   "cell_type": "code",
   "execution_count": 35,
   "metadata": {
    "ExecuteTime": {
     "end_time": "2021-05-13T18:49:57.271697Z",
     "start_time": "2021-05-13T18:49:57.257658Z"
    },
    "scrolled": true
   },
   "outputs": [],
   "source": [
    "# max_rating = df_saved['rating'].max()\n",
    "\n",
    "# df_saved[df_saved['rating']== max_rating].shape"
   ]
  },
  {
   "cell_type": "code",
   "execution_count": 36,
   "metadata": {
    "ExecuteTime": {
     "end_time": "2021-05-13T18:49:57.287691Z",
     "start_time": "2021-05-13T18:49:57.274691Z"
    }
   },
   "outputs": [],
   "source": [
    "# sns.__version__"
   ]
  },
  {
   "cell_type": "code",
   "execution_count": 37,
   "metadata": {
    "ExecuteTime": {
     "end_time": "2021-05-13T18:49:57.302689Z",
     "start_time": "2021-05-13T18:49:57.290674Z"
    }
   },
   "outputs": [],
   "source": [
    "# df_saved"
   ]
  },
  {
   "cell_type": "markdown",
   "metadata": {},
   "source": [
    "# Converting Price to Int"
   ]
  },
  {
   "cell_type": "code",
   "execution_count": 38,
   "metadata": {
    "ExecuteTime": {
     "end_time": "2021-05-13T18:49:57.318689Z",
     "start_time": "2021-05-13T18:49:57.304662Z"
    }
   },
   "outputs": [],
   "source": [
    "# df_saved['price'].value_counts(dropna=False)"
   ]
  },
  {
   "cell_type": "code",
   "execution_count": 39,
   "metadata": {
    "ExecuteTime": {
     "end_time": "2021-05-13T18:49:57.333666Z",
     "start_time": "2021-05-13T18:49:57.321663Z"
    }
   },
   "outputs": [],
   "source": [
    "# df_saved['price_converted'] = df_saved['price'].map({np.nan:0, '$':1, '$$':2, '$$$':3})"
   ]
  },
  {
   "cell_type": "code",
   "execution_count": 40,
   "metadata": {
    "ExecuteTime": {
     "end_time": "2021-05-13T18:49:57.364660Z",
     "start_time": "2021-05-13T18:49:57.342659Z"
    }
   },
   "outputs": [],
   "source": [
    "# sns.countplot(x= 'price_converted', data=df_saved);"
   ]
  },
  {
   "cell_type": "code",
   "execution_count": 41,
   "metadata": {
    "ExecuteTime": {
     "end_time": "2021-05-13T18:49:57.379658Z",
     "start_time": "2021-05-13T18:49:57.367659Z"
    }
   },
   "outputs": [],
   "source": [
    "# sns.countplot(x= 'rating',data=df_saved);"
   ]
  },
  {
   "cell_type": "markdown",
   "metadata": {},
   "source": [
    ">- `hue` parameter - seaborn"
   ]
  },
  {
   "cell_type": "markdown",
   "metadata": {},
   "source": [
    "What percentage of businesses have a rating greater than or  4.5?"
   ]
  },
  {
   "cell_type": "code",
   "execution_count": 42,
   "metadata": {
    "ExecuteTime": {
     "end_time": "2021-05-13T18:49:57.395657Z",
     "start_time": "2021-05-13T18:49:57.381659Z"
    }
   },
   "outputs": [],
   "source": [
    "# df_total_high = df_saved[df_saved['rating'] >= 4.5].shape[0]\n",
    "# df_total_high / df_saved.shape[0]"
   ]
  },
  {
   "cell_type": "markdown",
   "metadata": {},
   "source": [
    "What percentage of businesses have a rating less than 3?"
   ]
  },
  {
   "cell_type": "code",
   "execution_count": 43,
   "metadata": {
    "ExecuteTime": {
     "end_time": "2021-05-13T18:49:57.411658Z",
     "start_time": "2021-05-13T18:49:57.397660Z"
    }
   },
   "outputs": [],
   "source": [
    "# df_total_low = df_saved[df_saved['rating'] < 3].shape[0]\n",
    "# df_total_low"
   ]
  },
  {
   "cell_type": "code",
   "execution_count": 44,
   "metadata": {
    "ExecuteTime": {
     "end_time": "2021-05-13T18:49:57.426660Z",
     "start_time": "2021-05-13T18:49:57.414659Z"
    }
   },
   "outputs": [],
   "source": [
    "# df_total_low / df_saved.shape[0]"
   ]
  },
  {
   "cell_type": "markdown",
   "metadata": {},
   "source": [
    "---\n",
    "\n",
    "**Pricing**\n",
    "\n",
    "What percentage of your businesses have a price label of one dollar sign? Two dollar signs? Three dollar signs? No dollar signs?"
   ]
  },
  {
   "cell_type": "code",
   "execution_count": 45,
   "metadata": {
    "ExecuteTime": {
     "end_time": "2021-05-13T18:49:57.442660Z",
     "start_time": "2021-05-13T18:49:57.429660Z"
    }
   },
   "outputs": [],
   "source": [
    "# df_total_zero = df_saved[df_saved['price_converted'] == 0].shape[0]\n",
    "# print(df_total_zero / df_saved.shape[0])\n",
    "# df_total_one = df_saved[df_saved['price_converted'] == 1].shape[0]\n",
    "# print(df_total_one / df_saved.shape[0])\n",
    "# df_total_two = df_saved[df_saved['price_converted'] == 2].shape[0]\n",
    "# print(df_total_two / df_saved.shape[0])\n",
    "# df_total_three = df_saved[df_saved['price_converted'] == 3].shape[0]\n",
    "# print(df_total_three / df_saved.shape[0])"
   ]
  },
  {
   "cell_type": "markdown",
   "metadata": {},
   "source": [
    "---\n",
    "\n",
    "**Returing Reviews**\n",
    "\n",
    "Return the text of the reviews for the most reviewed business. "
   ]
  },
  {
   "cell_type": "code",
   "execution_count": 46,
   "metadata": {
    "ExecuteTime": {
     "end_time": "2021-05-13T18:49:57.457670Z",
     "start_time": "2021-05-13T18:49:57.444660Z"
    }
   },
   "outputs": [],
   "source": [
    "# df_saved.keys()"
   ]
  },
  {
   "cell_type": "code",
   "execution_count": 47,
   "metadata": {
    "ExecuteTime": {
     "end_time": "2021-05-13T18:49:57.473657Z",
     "start_time": "2021-05-13T18:49:57.460661Z"
    },
    "scrolled": true
   },
   "outputs": [],
   "source": [
    "# max_reviewed = df_saved['review_count'].max()\n",
    "# most_reviewed_id = df_saved[df_saved['review_count'] == max_reviewed]['business id']\n",
    "# most_reviewed_id\n",
    "# # test_all_funct[test_all_funct['business id'] == 'DknnpiG1p4OoM1maFshzXA']\n"
   ]
  },
  {
   "cell_type": "code",
   "execution_count": 48,
   "metadata": {
    "ExecuteTime": {
     "end_time": "2021-05-13T18:49:57.488659Z",
     "start_time": "2021-05-13T18:49:57.476662Z"
    }
   },
   "outputs": [],
   "source": [
    "# test_all_funct.keys()"
   ]
  },
  {
   "cell_type": "markdown",
   "metadata": {},
   "source": [
    "Find the highest rated business and return text of the most recent review. If multiple business have the same rating, select the business with the most reviews. "
   ]
  },
  {
   "cell_type": "code",
   "execution_count": 49,
   "metadata": {
    "ExecuteTime": {
     "end_time": "2021-05-13T18:49:57.503662Z",
     "start_time": "2021-05-13T18:49:57.491662Z"
    }
   },
   "outputs": [],
   "source": [
    "# top_b = df_saved[df_saved['rating'] == max_rating]\n",
    "# max_counts = df_saved['review_count'].max()\n",
    "# top_num_reviews_top_b = top_b['review_count'].max()\n",
    "# top_b[top_b['review_count'] == top_num_reviews_top_b]"
   ]
  },
  {
   "cell_type": "markdown",
   "metadata": {},
   "source": [
    "Find the lowest rated business and return text of the most recent review.  If multiple business have the same rating, select the business with the least reviews. "
   ]
  },
  {
   "cell_type": "code",
   "execution_count": 50,
   "metadata": {
    "ExecuteTime": {
     "end_time": "2021-05-13T18:49:57.519662Z",
     "start_time": "2021-05-13T18:49:57.506661Z"
    }
   },
   "outputs": [],
   "source": [
    "# min_b = df_saved['rating'].min()\n",
    "# min_b = df_saved[df_saved['rating'] == min_b]\n",
    "# min_counts = df_saved['review_count'].min()\n",
    "# min_num_reviews_min_b = min_b['review_count'].min()\n",
    "# min_b[min_b['review_count'] == min_num_reviews_min_b]"
   ]
  },
  {
   "cell_type": "markdown",
   "metadata": {},
   "source": [
    "# Reference help"
   ]
  },
  {
   "cell_type": "markdown",
   "metadata": {},
   "source": [
    "###  Pagination\n",
    "\n",
    "Returning to the Yelp API, the [documentation](https://www.yelp.com/developers/documentation/v3/business_search) also provides us details regarding the API limits. These often include details about the number of requests a user is allowed to make within a specified time limit and the maximum number of results to be returned. In this case, we are told that any request has a maximum of 50 results per request and defaults to 20. Furthermore, any search will be limited to a total of 1000 results. To retrieve all 1000 of these results, we would have to page through the results piece by piece, retriving 50 at a time. Processes such as these are often refered to as pagination.\n",
    "\n",
    "Now that you have an initial response, you can examine the contents of the json container. For example, you might start with ```response.json().keys()```. Here, you'll see a key for `'total'`, which tells you the full number of matching results given your query parameters. Write a loop (or ideally a function) which then makes successive API calls using the offset parameter to retrieve all of the results (or 5000 for a particularly large result set) for the original query. As you do this, be mindful of how you store the data. \n",
    "\n",
    "**Note: be mindful of the API rate limits. You can only make 5000 requests per day, and APIs can make requests too fast. Start prototyping small before running a loop that could be faulty. You can also use time.sleep(n) to add delays. For more details see https://www.yelp.com/developers/documentation/v3/rate_limiting.**"
   ]
  },
  {
   "cell_type": "markdown",
   "metadata": {},
   "source": [
    "***Below is sample code that you can use to help you deal with the pagination parameter and bring all of the functions together.***\n",
    "\n",
    "\n",
    "***Also, something might cause your code to break while it is running. You don't want to constantly repull the same data when this happens, so you should insert the data into the database as you call and parse it, not after you have all of the data***\n"
   ]
  },
  {
   "cell_type": "code",
   "execution_count": 51,
   "metadata": {
    "ExecuteTime": {
     "end_time": "2021-05-13T18:49:57.535659Z",
     "start_time": "2021-05-13T18:49:57.522660Z"
    }
   },
   "outputs": [],
   "source": [
    "# # create a variable  to keep track of which result you are in. \n",
    "# cur = 0\n",
    "\n",
    "# #set up a while loop to go through and grab the result \n",
    "# while cur < num and cur < 1000:\n",
    "#     #set the offset parameter to be where you currently are in the results \n",
    "#     url_params['offset'] = cur\n",
    "#     #make your API call with the new offset number\n",
    "#     results = yelp_call(url_params, api_key)\n",
    "    \n",
    "#     #after you get your results you can now use your function to parse those results\n",
    "#     parsed_results = parse_results(results)\n",
    "    \n",
    "#     # use your function to insert your parsed results into the db\n",
    "#     db_insert(parsed_results)\n",
    "#     #increment the counter by 50 to move on to the next results\n",
    "#     cur += 20"
   ]
  },
  {
   "cell_type": "code",
   "execution_count": null,
   "metadata": {},
   "outputs": [],
   "source": []
  }
 ],
 "metadata": {
  "kernelspec": {
   "display_name": "Python 3",
   "language": "python",
   "name": "python3"
  },
  "language_info": {
   "codemirror_mode": {
    "name": "ipython",
    "version": 3
   },
   "file_extension": ".py",
   "mimetype": "text/x-python",
   "name": "python",
   "nbconvert_exporter": "python",
   "pygments_lexer": "ipython3",
   "version": "3.8.5"
  },
  "toc": {
   "base_numbering": 1,
   "nav_menu": {},
   "number_sections": false,
   "sideBar": true,
   "skip_h1_title": false,
   "title_cell": "Table of Contents",
   "title_sidebar": "Contents",
   "toc_cell": false,
   "toc_position": {
    "height": "calc(100% - 180px)",
    "left": "10px",
    "top": "150px",
    "width": "225px"
   },
   "toc_section_display": true,
   "toc_window_display": true
  },
  "varInspector": {
   "cols": {
    "lenName": "32",
    "lenType": 16,
    "lenVar": 40
   },
   "kernels_config": {
    "python": {
     "delete_cmd_postfix": "",
     "delete_cmd_prefix": "del ",
     "library": "var_list.py",
     "varRefreshCmd": "print(var_dic_list())"
    },
    "r": {
     "delete_cmd_postfix": ") ",
     "delete_cmd_prefix": "rm(",
     "library": "var_list.r",
     "varRefreshCmd": "cat(var_dic_list()) "
    }
   },
   "types_to_exclude": [
    "module",
    "function",
    "builtin_function_or_method",
    "instance",
    "_Feature"
   ],
   "window_display": false
  }
 },
 "nbformat": 4,
 "nbformat_minor": 2
}
