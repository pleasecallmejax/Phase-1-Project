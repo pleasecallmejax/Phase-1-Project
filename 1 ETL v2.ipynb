{
 "cells": [
  {
   "cell_type": "markdown",
   "metadata": {},
   "source": [
    "# Getting Your Data From Yelp!"
   ]
  },
  {
   "cell_type": "markdown",
   "metadata": {},
   "source": [
    "In order to make sure you are on track to completing the project, you will complete this workbook first. Below are steps that you need to take in order to make sure you have your data from yelp and are ready to analyze it. Your cohort lead will review this workbook with you the Wednesday before your project is due.    "
   ]
  },
  {
   "cell_type": "markdown",
   "metadata": {},
   "source": [
    "# Part 1 - Understanding your data and question"
   ]
  },
  {
   "cell_type": "markdown",
   "metadata": {},
   "source": [
    "You will be pulling data from the Yelp API to complete your analysis. The API, however, provides you with a lot of information that will not be pertinent to your analysis. You will pull data from the API and parse through it to keep only the data that you will need. In order to help you identify that information,look at the API documentation and understand what data the API will provide you. \n",
    "\n",
    "Identify which data fields you will want to keep for your analysis. \n",
    "\n",
    "https://www.yelp.com/developers/documentation/v3/get_started"
   ]
  },
  {
   "cell_type": "markdown",
   "metadata": {},
   "source": [
    "# Part 2 - Create ETL pipeline for the business data from the API"
   ]
  },
  {
   "cell_type": "markdown",
   "metadata": {},
   "source": [
    "## Details"
   ]
  },
  {
   "cell_type": "markdown",
   "metadata": {},
   "source": [
    "Now that you know what data you need from the API, you want to write code that will execute an API call, parse those results and then insert the results into the DB.  \n",
    "\n",
    "It is helpful to break this up into three different functions (*API call, parse results, and insert into DB*) and then you can write a function/script that pull the other three functions together. \n",
    "\n",
    "Let's first do this for the Business endpoint."
   ]
  },
  {
   "cell_type": "markdown",
   "metadata": {},
   "source": [
    "## Request"
   ]
  },
  {
   "cell_type": "markdown",
   "metadata": {},
   "source": [
    "### Imports and Setup"
   ]
  },
  {
   "cell_type": "code",
   "execution_count": 1,
   "metadata": {
    "ExecuteTime": {
     "end_time": "2021-05-13T18:49:23.094040Z",
     "start_time": "2021-05-13T18:49:21.556038Z"
    },
    "code_folding": []
   },
   "outputs": [],
   "source": [
    "import requests\n",
    "import pandas as pd\n",
    "import json\n",
    "import csv\n",
    "import numpy as np\n",
    "import seaborn as sns\n",
    "import matplotlib.pyplot as plt\n",
    "\n",
    "with open(r'C:\\Users\\bmcca\\.secret\\yelp_api.json') as f:\n",
    "    keys = json.load(f)\n",
    "\n",
    "client_id = keys['id']\n",
    "yelp_key = keys['key']"
   ]
  },
  {
   "cell_type": "markdown",
   "metadata": {},
   "source": [
    "### ƒ: yelp_request"
   ]
  },
  {
   "cell_type": "markdown",
   "metadata": {
    "ExecuteTime": {
     "end_time": "2021-05-10T15:58:43.341776Z",
     "start_time": "2021-05-10T15:58:43.321768Z"
    }
   },
   "source": [
    " - Params: search term (eg. \"wineries); location; yelp_key variable (from Imports); and changing setting to print details"
   ]
  },
  {
   "cell_type": "code",
   "execution_count": 2,
   "metadata": {
    "ExecuteTime": {
     "end_time": "2021-05-13T18:49:23.110043Z",
     "start_time": "2021-05-13T18:49:23.097040Z"
    },
    "code_folding": []
   },
   "outputs": [],
   "source": [
    "def yelp_request(term, location, yelp_key, verbose=True):\n",
    "    '''Adapted from Yelp API Lab: https://github.com/BenJMcCarty/dsc-yelp-api-lab/tree/solution'''\n",
    "    \n",
    "    url = 'https://api.yelp.com/v3/businesses/search'\n",
    "\n",
    "    headers = {\n",
    "            'Authorization': 'Bearer {}'.format(yelp_key),\n",
    "        }\n",
    "\n",
    "    url_params = {\n",
    "                    'term': term.replace(' ', '+'),\n",
    "                    'location': location.replace(' ', '+'),\n",
    "                    'limit': 50\n",
    "                }\n",
    "    response = requests.get(url, headers=headers, params=url_params)\n",
    "    \n",
    "    if verbose == True:\n",
    "        print(response)\n",
    "        print(type(response.text))\n",
    "        print(response.text[:1000])\n",
    "        \n",
    "    return response.json()"
   ]
  },
  {
   "cell_type": "markdown",
   "metadata": {
    "ExecuteTime": {
     "end_time": "2021-05-10T19:44:09.881783Z",
     "start_time": "2021-05-10T19:44:09.868735Z"
    }
   },
   "source": [
    "### Sending the request\n"
   ]
  },
  {
   "cell_type": "markdown",
   "metadata": {},
   "source": [
    "- Un-comment the next line to run the response"
   ]
  },
  {
   "cell_type": "code",
   "execution_count": 3,
   "metadata": {
    "ExecuteTime": {
     "end_time": "2021-05-13T18:49:23.126082Z",
     "start_time": "2021-05-13T18:49:23.113041Z"
    },
    "scrolled": true
   },
   "outputs": [],
   "source": [
    "# response = yelp_request('winery','Southern California', yelp_key)\n",
    "# response.keys()"
   ]
  },
  {
   "cell_type": "markdown",
   "metadata": {},
   "source": [
    "### Identifying and Exploring Keys"
   ]
  },
  {
   "cell_type": "code",
   "execution_count": 4,
   "metadata": {
    "ExecuteTime": {
     "end_time": "2021-05-13T18:49:23.142072Z",
     "start_time": "2021-05-13T18:49:23.129037Z"
    }
   },
   "outputs": [],
   "source": [
    "# # Identify keys\n",
    "\n",
    "# print(response.keys())"
   ]
  },
  {
   "cell_type": "markdown",
   "metadata": {},
   "source": [
    "#### Exploring the \"Businesses\" Key"
   ]
  },
  {
   "cell_type": "code",
   "execution_count": 5,
   "metadata": {
    "ExecuteTime": {
     "end_time": "2021-05-13T18:49:23.158083Z",
     "start_time": "2021-05-13T18:49:23.145043Z"
    }
   },
   "outputs": [],
   "source": [
    "# response['businesses']"
   ]
  },
  {
   "cell_type": "code",
   "execution_count": 6,
   "metadata": {
    "ExecuteTime": {
     "end_time": "2021-05-13T18:49:23.174067Z",
     "start_time": "2021-05-13T18:49:23.160040Z"
    },
    "code_folding": [],
    "scrolled": true
   },
   "outputs": [],
   "source": [
    "# # Show first item w/in list of businesses\n",
    "\n",
    "# response['businesses'][0]"
   ]
  },
  {
   "cell_type": "code",
   "execution_count": 7,
   "metadata": {
    "ExecuteTime": {
     "end_time": "2021-05-13T18:49:23.190067Z",
     "start_time": "2021-05-13T18:49:23.176038Z"
    }
   },
   "outputs": [],
   "source": [
    "# response['businesses'][0]['categories'][0]['alias']"
   ]
  },
  {
   "cell_type": "code",
   "execution_count": 8,
   "metadata": {
    "ExecuteTime": {
     "end_time": "2021-05-13T18:49:23.206036Z",
     "start_time": "2021-05-13T18:49:23.195038Z"
    }
   },
   "outputs": [],
   "source": [
    "# response['businesses'][0]['categories'][0]['title']"
   ]
  },
  {
   "cell_type": "markdown",
   "metadata": {},
   "source": [
    "#### Exploring the \"Total\" Key"
   ]
  },
  {
   "cell_type": "code",
   "execution_count": 9,
   "metadata": {
    "ExecuteTime": {
     "end_time": "2021-05-13T18:49:23.222069Z",
     "start_time": "2021-05-13T18:49:23.209038Z"
    }
   },
   "outputs": [],
   "source": [
    "# response['total']\n",
    "\n",
    "# # How many businesses are there in total for my request?"
   ]
  },
  {
   "cell_type": "markdown",
   "metadata": {},
   "source": [
    "#### Exploring the \"Region\" Key"
   ]
  },
  {
   "cell_type": "code",
   "execution_count": 10,
   "metadata": {
    "ExecuteTime": {
     "end_time": "2021-05-13T18:49:23.238040Z",
     "start_time": "2021-05-13T18:49:23.226041Z"
    }
   },
   "outputs": [],
   "source": [
    "# response['region']\n",
    "\n",
    "# # From which geographical area will my results come?"
   ]
  },
  {
   "cell_type": "markdown",
   "metadata": {},
   "source": [
    "## Parse"
   ]
  },
  {
   "cell_type": "markdown",
   "metadata": {
    "ExecuteTime": {
     "end_time": "2021-05-10T21:41:29.180856Z",
     "start_time": "2021-05-10T21:41:29.173856Z"
    }
   },
   "source": [
    "### ƒ: parse_data"
   ]
  },
  {
   "cell_type": "code",
   "execution_count": 11,
   "metadata": {
    "ExecuteTime": {
     "end_time": "2021-05-13T18:49:23.253038Z",
     "start_time": "2021-05-13T18:49:23.241039Z"
    },
    "code_folding": []
   },
   "outputs": [],
   "source": [
    "def parse_data(list_of_data):\n",
    "    '''Adapted from Tyrell's code'''  \n",
    "\n",
    "    # Create empty list to store results\n",
    "    \n",
    "    parsed_data = []\n",
    "    \n",
    "    # Loop through each business in the list of businesses\n",
    "    # Add specific k:v pairs to a dictionary\n",
    "    \n",
    "    for business in list_of_data:\n",
    "        if 'price' not in business:\n",
    "            business['price'] = np.nan\n",
    "            \n",
    "            # Verify that the \"price\" key is in the selected business dict\n",
    "            \n",
    "        details = {'name': business['name'],\n",
    "                     'location': ' '.join(business['location']['display_address']),\n",
    "                     'Business ID': business['id'],\n",
    "                     'alias': business['categories'][0]['alias'],\n",
    "                     'title': business['categories'][0]['title'],\n",
    "                     'rating': business['rating'],\n",
    "                     'review_count': business['review_count'],\n",
    "                     'price': business['price'],\n",
    "                     'latitude': business['coordinates']['latitude'],\n",
    "                     'longitude': business['coordinates']['longitude']\n",
    "                    }\n",
    "        # Add the new dictionary to the previous list\n",
    "        \n",
    "        parsed_data.append(details)\n",
    "    \n",
    "    # Create a DataFrame from the resulting list\n",
    "    \n",
    "    df_parsed_data = pd.DataFrame(parsed_data)\n",
    "\n",
    "    \n",
    "    return df_parsed_data"
   ]
  },
  {
   "cell_type": "markdown",
   "metadata": {
    "ExecuteTime": {
     "end_time": "2021-05-10T22:37:53.049725Z",
     "start_time": "2021-05-10T22:37:53.042727Z"
    }
   },
   "source": [
    "## Updating Requests for Pagination"
   ]
  },
  {
   "cell_type": "markdown",
   "metadata": {},
   "source": [
    "### ƒ: yelp_request_offset"
   ]
  },
  {
   "cell_type": "code",
   "execution_count": 12,
   "metadata": {
    "ExecuteTime": {
     "end_time": "2021-05-13T18:49:23.268037Z",
     "start_time": "2021-05-13T18:49:23.257037Z"
    },
    "code_folding": []
   },
   "outputs": [],
   "source": [
    "def yelp_request_offset(term, location, yelp_key, offset=0, verbose=False):\n",
    "    '''Adapted from Yelp API Lab: https://github.com/BenJMcCarty/dsc-yelp-api-lab/tree/solution'''\n",
    "    \n",
    "    url = 'https://api.yelp.com/v3/businesses/search'\n",
    "\n",
    "    headers = {\n",
    "            'Authorization': 'Bearer {}'.format(yelp_key),\n",
    "        }\n",
    "\n",
    "    url_params = {\n",
    "                    'term': term.replace(' ', '+'),\n",
    "                    'location': location.replace(' ', '+'),\n",
    "                    'limit': 50,\n",
    "                    'offset': offset\n",
    "                        }\n",
    "    \n",
    "    response = requests.get(url, headers=headers, params=url_params)\n",
    "    \n",
    "    if verbose == True:\n",
    "        print(response)\n",
    "        print(type(response.text))\n",
    "        print(response.text[:1000])\n",
    "        \n",
    "    return response.json()"
   ]
  },
  {
   "cell_type": "markdown",
   "metadata": {
    "ExecuteTime": {
     "end_time": "2021-05-10T21:52:21.177479Z",
     "start_time": "2021-05-10T21:52:21.167481Z"
    }
   },
   "source": [
    "#### Test 1"
   ]
  },
  {
   "cell_type": "code",
   "execution_count": 13,
   "metadata": {
    "ExecuteTime": {
     "end_time": "2021-05-13T18:49:23.283047Z",
     "start_time": "2021-05-13T18:49:23.271041Z"
    }
   },
   "outputs": [],
   "source": [
    "# test1 = yelp_request_offset('winery', 'San Diego', yelp_key)\n",
    "# test1"
   ]
  },
  {
   "cell_type": "code",
   "execution_count": 14,
   "metadata": {
    "ExecuteTime": {
     "end_time": "2021-05-13T18:49:23.298037Z",
     "start_time": "2021-05-13T18:49:23.285039Z"
    }
   },
   "outputs": [],
   "source": [
    "# test1.keys()"
   ]
  },
  {
   "cell_type": "code",
   "execution_count": 15,
   "metadata": {
    "ExecuteTime": {
     "end_time": "2021-05-13T18:49:23.313037Z",
     "start_time": "2021-05-13T18:49:23.300039Z"
    },
    "scrolled": true
   },
   "outputs": [],
   "source": [
    "# test1['total']"
   ]
  },
  {
   "cell_type": "code",
   "execution_count": 16,
   "metadata": {
    "ExecuteTime": {
     "end_time": "2021-05-13T18:49:23.329038Z",
     "start_time": "2021-05-13T18:49:23.315039Z"
    }
   },
   "outputs": [],
   "source": [
    "# test1['businesses'][0]"
   ]
  },
  {
   "cell_type": "markdown",
   "metadata": {},
   "source": [
    "# ƒ: GET BUSINESSES (ALL)"
   ]
  },
  {
   "cell_type": "code",
   "execution_count": 17,
   "metadata": {
    "ExecuteTime": {
     "end_time": "2021-05-13T18:49:23.345071Z",
     "start_time": "2021-05-13T18:49:23.331039Z"
    },
    "code_folding": []
   },
   "outputs": [],
   "source": [
    "def get_full_data(term, location, yelp_key, file_name = 'data/wineries_raw.csv'):\n",
    "    '''Requests all results from Yelp API; saves as a .csv; and returns a DataFrame.'''\n",
    "\n",
    "    # Create a .csv to store results\n",
    "    blank_df = pd.DataFrame()\n",
    "    blank_df.to_csv(file_name)\n",
    "    \n",
    "    # Process first request to Yelp API and calculate number of pages \n",
    "    results = yelp_request_offset(term, location, yelp_key, offset=0, \n",
    "                                  verbose=False)\n",
    "    num_pages = results['total']//50+1\n",
    "    \n",
    "    # Print out confirmation feedback\n",
    "    print(f'For {term} and {location}: ')\n",
    "    print(f\"    Total number of results: {results['total']}.\")\n",
    "    print(f'    Total number of pages: {num_pages}.')\n",
    "    \n",
    "    # Create offset for additional results\n",
    "    offset = 0\n",
    "\n",
    "    # Retrieves remaining pages\n",
    "    for num in range(num_pages-1):\n",
    "        try:\n",
    "            # Process API request\n",
    "            results = yelp_request_offset(term, location, yelp_key,\n",
    "                                          offset=offset, verbose=False)\n",
    "            \n",
    "            # From results, take values from \"Businesses\" key and save\n",
    "            parsed_results = parse_data(results['businesses'])\n",
    "          \n",
    "            # Save resulting DF to .csv from top\n",
    "            parsed_results.to_csv(file_name, mode='a', index = False)\n",
    "            \n",
    "            # Increase offset to move to next \"page\" of data\n",
    "            offset += 50\n",
    "            \n",
    "        except:\n",
    "            # If error, print where the error happens\n",
    "            print(f'Error on page {num}.')\n",
    "            # Then save the results so far to the .csv\n",
    "            parsed_results.to_csv(file_name, mode='a', index = False)\n",
    "\n",
    "\n",
    "    return parsed_results"
   ]
  },
  {
   "cell_type": "code",
   "execution_count": 18,
   "metadata": {
    "ExecuteTime": {
     "end_time": "2021-05-13T18:49:28.285042Z",
     "start_time": "2021-05-13T18:49:23.347038Z"
    }
   },
   "outputs": [
    {
     "name": "stdout",
     "output_type": "stream",
     "text": [
      "For winery and San Diego: \n",
      "    Total number of results: 262.\n",
      "    Total number of pages: 6.\n"
     ]
    },
    {
     "data": {
      "text/html": [
       "<div>\n",
       "<style scoped>\n",
       "    .dataframe tbody tr th:only-of-type {\n",
       "        vertical-align: middle;\n",
       "    }\n",
       "\n",
       "    .dataframe tbody tr th {\n",
       "        vertical-align: top;\n",
       "    }\n",
       "\n",
       "    .dataframe thead th {\n",
       "        text-align: right;\n",
       "    }\n",
       "</style>\n",
       "<table border=\"1\" class=\"dataframe\">\n",
       "  <thead>\n",
       "    <tr style=\"text-align: right;\">\n",
       "      <th></th>\n",
       "    </tr>\n",
       "  </thead>\n",
       "  <tbody>\n",
       "  </tbody>\n",
       "</table>\n",
       "</div>"
      ],
      "text/plain": [
       "Empty DataFrame\n",
       "Columns: []\n",
       "Index: []"
      ]
     },
     "execution_count": 18,
     "metadata": {},
     "output_type": "execute_result"
    }
   ],
   "source": [
    "get_full_data('winery', 'San Diego', yelp_key)"
   ]
  },
  {
   "cell_type": "markdown",
   "metadata": {},
   "source": [
    "# Cleaning Data"
   ]
  },
  {
   "cell_type": "markdown",
   "metadata": {},
   "source": [
    "# ƒ: clean_data"
   ]
  },
  {
   "cell_type": "markdown",
   "metadata": {},
   "source": [
    "Identifying, Filtering for, and Saving Top 2 Aliases"
   ]
  },
  {
   "cell_type": "code",
   "execution_count": 19,
   "metadata": {
    "ExecuteTime": {
     "end_time": "2021-05-13T18:49:28.300042Z",
     "start_time": "2021-05-13T18:49:28.288044Z"
    },
    "code_folding": [
     0
    ]
   },
   "outputs": [],
   "source": [
    "# def sort_by_aliases(raw_data = 'data/wineries_raw.csv'):\n",
    "\n",
    "#     # Read in businesses\n",
    "#     df1 = pd.read_csv(raw_data, header = 0)\n",
    "\n",
    "#     # Create new DF filtering alias and title columns\n",
    "#     df1_alias = df1.loc[:,['alias', 'title']]\n",
    "\n",
    "#     # Identify top 2 aliases \n",
    "#     df1_alias_count = df1_alias.groupby('alias').count().sort_values(['title'],\\\n",
    "#                                                             ascending=False)[:2]\n",
    "\n",
    "#     # Note: initially tried top 3, but it returned distributors, not wineries\n",
    "\n",
    "#     df1_alias_count.reset_index(inplace=True)\n",
    "    \n",
    "#     print(\"Top two aliases: \")\n",
    "#     print(df1_alias_count)\n",
    "\n",
    "#     # display them as a list\n",
    "#     aliases_top_2 = df1_alias_count['alias'].tolist()\n",
    "\n",
    "#     # Selecting rows based on condition and saving\n",
    "\n",
    "#     df2 = df1[df1['alias'].isin(aliases_top_2)]\n",
    "\n",
    "#     df2.to_csv('data/wineries_filtered_alias.csv', index = False)\n",
    "#     print(\"Saved to 'data/wineries_filtered_alias.csv'\")\n",
    "    \n",
    "#     return df2"
   ]
  },
  {
   "cell_type": "code",
   "execution_count": 20,
   "metadata": {
    "ExecuteTime": {
     "end_time": "2021-05-13T18:49:28.315044Z",
     "start_time": "2021-05-13T18:49:28.303041Z"
    }
   },
   "outputs": [],
   "source": [
    "def clean_data(existing_dataframe = None, raw_data = 'data/wineries_raw.csv'):\n",
    "    '''- Requires data from either an existing dataframe or an existing .csv file\n",
    "    - Takes raw business data from the Yelp API and filters for the top two\n",
    "    aliases (focusing on \"wineries\" and \"winetastingrooms\").\n",
    "    '''\n",
    "\n",
    "    # Read in businesses\n",
    "    df1 = pd.read_csv(raw_data, header = 1)\n",
    "\n",
    "    alias_index = df1['alias'].value_counts()[:2].index\n",
    "    print(alias_index)\n",
    "    \n",
    "    # Filtering rows based on condition\n",
    "\n",
    "    df2 = df1[df1['alias'].isin(alias_index)]\n",
    "    \n",
    "    # Resetting index\n",
    "    df2.reset_index(drop=True, inplace=True)\n",
    "    \n",
    "    # Save results\n",
    "    df2.to_csv('data/wineries_cleaned.csv',index = False)\n",
    "       \n",
    "    print(\"Saved to 'data/wineries_cleaned.csv'\")\n",
    "    \n",
    "    return df2"
   ]
  },
  {
   "cell_type": "code",
   "execution_count": 21,
   "metadata": {
    "ExecuteTime": {
     "end_time": "2021-05-13T18:49:28.379040Z",
     "start_time": "2021-05-13T18:49:28.318043Z"
    }
   },
   "outputs": [
    {
     "name": "stdout",
     "output_type": "stream",
     "text": [
      "Index(['wineries', 'winetastingroom'], dtype='object')\n",
      "Saved to 'data/wineries_cleaned.csv'\n"
     ]
    },
    {
     "data": {
      "text/html": [
       "<div>\n",
       "<style scoped>\n",
       "    .dataframe tbody tr th:only-of-type {\n",
       "        vertical-align: middle;\n",
       "    }\n",
       "\n",
       "    .dataframe tbody tr th {\n",
       "        vertical-align: top;\n",
       "    }\n",
       "\n",
       "    .dataframe thead th {\n",
       "        text-align: right;\n",
       "    }\n",
       "</style>\n",
       "<table border=\"1\" class=\"dataframe\">\n",
       "  <thead>\n",
       "    <tr style=\"text-align: right;\">\n",
       "      <th></th>\n",
       "      <th>name</th>\n",
       "      <th>location</th>\n",
       "      <th>Business ID</th>\n",
       "      <th>alias</th>\n",
       "      <th>title</th>\n",
       "      <th>rating</th>\n",
       "      <th>review_count</th>\n",
       "      <th>price</th>\n",
       "      <th>latitude</th>\n",
       "      <th>longitude</th>\n",
       "    </tr>\n",
       "  </thead>\n",
       "  <tbody>\n",
       "    <tr>\n",
       "      <th>0</th>\n",
       "      <td>Bernardo Winery</td>\n",
       "      <td>13330 Paseo Del Verano Norte San Diego, CA 92128</td>\n",
       "      <td>DknnpiG1p4OoM1maFshzXA</td>\n",
       "      <td>winetastingroom</td>\n",
       "      <td>Wine Tasting Room</td>\n",
       "      <td>4.5</td>\n",
       "      <td>626</td>\n",
       "      <td>$$</td>\n",
       "      <td>33.0328</td>\n",
       "      <td>-117.04646</td>\n",
       "    </tr>\n",
       "    <tr>\n",
       "      <th>1</th>\n",
       "      <td>Callaway Vineyard &amp; Winery</td>\n",
       "      <td>517 4th Ave Ste 101 San Diego, CA 92101</td>\n",
       "      <td>Cn2_bpTngghYW1ej4zreZg</td>\n",
       "      <td>winetastingroom</td>\n",
       "      <td>Wine Tasting Room</td>\n",
       "      <td>5.0</td>\n",
       "      <td>100</td>\n",
       "      <td>$$</td>\n",
       "      <td>32.7107506117294</td>\n",
       "      <td>-117.160917759246</td>\n",
       "    </tr>\n",
       "    <tr>\n",
       "      <th>2</th>\n",
       "      <td>Négociant Winery</td>\n",
       "      <td>2419 El Cajon Blvd San Diego, CA 92104</td>\n",
       "      <td>Cc1sQWRWgGyMCjzX2mmMQQ</td>\n",
       "      <td>winetastingroom</td>\n",
       "      <td>Wine Tasting Room</td>\n",
       "      <td>4.5</td>\n",
       "      <td>103</td>\n",
       "      <td>$$</td>\n",
       "      <td>32.75488</td>\n",
       "      <td>-117.13828</td>\n",
       "    </tr>\n",
       "    <tr>\n",
       "      <th>3</th>\n",
       "      <td>San Pasqual Winery - Seaport Village</td>\n",
       "      <td>805 W Harbor Dr San Diego, CA 92101</td>\n",
       "      <td>gMW1RvyLu90RSQAY9UrIHw</td>\n",
       "      <td>winetastingroom</td>\n",
       "      <td>Wine Tasting Room</td>\n",
       "      <td>4.5</td>\n",
       "      <td>138</td>\n",
       "      <td>$$</td>\n",
       "      <td>32.7087316452387</td>\n",
       "      <td>-117.168194991742</td>\n",
       "    </tr>\n",
       "    <tr>\n",
       "      <th>4</th>\n",
       "      <td>Domaine Artefact Vineyard &amp; Winery</td>\n",
       "      <td>15404 Highland Valley Rd Escondido, CA 92025</td>\n",
       "      <td>WqVbxY77Ag96X90LultCUw</td>\n",
       "      <td>wineries</td>\n",
       "      <td>Wineries</td>\n",
       "      <td>5.0</td>\n",
       "      <td>96</td>\n",
       "      <td>$$</td>\n",
       "      <td>33.06817</td>\n",
       "      <td>-117.0016</td>\n",
       "    </tr>\n",
       "    <tr>\n",
       "      <th>...</th>\n",
       "      <td>...</td>\n",
       "      <td>...</td>\n",
       "      <td>...</td>\n",
       "      <td>...</td>\n",
       "      <td>...</td>\n",
       "      <td>...</td>\n",
       "      <td>...</td>\n",
       "      <td>...</td>\n",
       "      <td>...</td>\n",
       "      <td>...</td>\n",
       "    </tr>\n",
       "    <tr>\n",
       "      <th>77</th>\n",
       "      <td>Roll OutThe Barrell Charity Event by Meritage</td>\n",
       "      <td>162 S Rancho Santa Fe Rd Encinitas, CA 92024</td>\n",
       "      <td>wyLm9fIoamN-VALcu3nUVg</td>\n",
       "      <td>wineries</td>\n",
       "      <td>Wineries</td>\n",
       "      <td>4.0</td>\n",
       "      <td>1</td>\n",
       "      <td>NaN</td>\n",
       "      <td>33.037121</td>\n",
       "      <td>-117.238654</td>\n",
       "    </tr>\n",
       "    <tr>\n",
       "      <th>78</th>\n",
       "      <td>Licores Kentucky</td>\n",
       "      <td>Calle Puerto y 3ra S/N Col. Centro 22000 Tijua...</td>\n",
       "      <td>B7gID-M2EsdpthrTcwTNYA</td>\n",
       "      <td>wineries</td>\n",
       "      <td>Wineries</td>\n",
       "      <td>5.0</td>\n",
       "      <td>1</td>\n",
       "      <td>NaN</td>\n",
       "      <td>32.534236</td>\n",
       "      <td>-117.034976</td>\n",
       "    </tr>\n",
       "    <tr>\n",
       "      <th>79</th>\n",
       "      <td>Barrica 9</td>\n",
       "      <td>Av. Revolución 1265 Col. Zona Centro 22000 Tij...</td>\n",
       "      <td>HxTqmzT4G43iAKXrB3pqQg</td>\n",
       "      <td>winetastingroom</td>\n",
       "      <td>Wine Tasting Room</td>\n",
       "      <td>4.5</td>\n",
       "      <td>7</td>\n",
       "      <td>$$</td>\n",
       "      <td>32.53043</td>\n",
       "      <td>-117.0365</td>\n",
       "    </tr>\n",
       "    <tr>\n",
       "      <th>80</th>\n",
       "      <td>RL Liquid Assets, Inc</td>\n",
       "      <td>5909 Sea Lion Pl Ste G Carlsbad, CA 92010</td>\n",
       "      <td>-STecUUsS69EMSE7PxwPwA</td>\n",
       "      <td>wineries</td>\n",
       "      <td>Wineries</td>\n",
       "      <td>3.0</td>\n",
       "      <td>2</td>\n",
       "      <td>NaN</td>\n",
       "      <td>33.134743</td>\n",
       "      <td>-117.248093</td>\n",
       "    </tr>\n",
       "    <tr>\n",
       "      <th>81</th>\n",
       "      <td>Cactus Star Vineyard at Scaredy Cat Ranch</td>\n",
       "      <td>17029 Handlebar Rd Ramona, CA 92065</td>\n",
       "      <td>ZeiVSF1SMdVVSkiGE7qaSg</td>\n",
       "      <td>winetastingroom</td>\n",
       "      <td>Wine Tasting Room</td>\n",
       "      <td>5.0</td>\n",
       "      <td>8</td>\n",
       "      <td>$</td>\n",
       "      <td>33.02015</td>\n",
       "      <td>-116.92814</td>\n",
       "    </tr>\n",
       "  </tbody>\n",
       "</table>\n",
       "<p>82 rows × 10 columns</p>\n",
       "</div>"
      ],
      "text/plain": [
       "                                             name  \\\n",
       "0                                 Bernardo Winery   \n",
       "1                      Callaway Vineyard & Winery   \n",
       "2                                Négociant Winery   \n",
       "3            San Pasqual Winery - Seaport Village   \n",
       "4              Domaine Artefact Vineyard & Winery   \n",
       "..                                            ...   \n",
       "77  Roll OutThe Barrell Charity Event by Meritage   \n",
       "78                               Licores Kentucky   \n",
       "79                                      Barrica 9   \n",
       "80                          RL Liquid Assets, Inc   \n",
       "81      Cactus Star Vineyard at Scaredy Cat Ranch   \n",
       "\n",
       "                                             location             Business ID  \\\n",
       "0    13330 Paseo Del Verano Norte San Diego, CA 92128  DknnpiG1p4OoM1maFshzXA   \n",
       "1             517 4th Ave Ste 101 San Diego, CA 92101  Cn2_bpTngghYW1ej4zreZg   \n",
       "2              2419 El Cajon Blvd San Diego, CA 92104  Cc1sQWRWgGyMCjzX2mmMQQ   \n",
       "3                 805 W Harbor Dr San Diego, CA 92101  gMW1RvyLu90RSQAY9UrIHw   \n",
       "4        15404 Highland Valley Rd Escondido, CA 92025  WqVbxY77Ag96X90LultCUw   \n",
       "..                                                ...                     ...   \n",
       "77       162 S Rancho Santa Fe Rd Encinitas, CA 92024  wyLm9fIoamN-VALcu3nUVg   \n",
       "78  Calle Puerto y 3ra S/N Col. Centro 22000 Tijua...  B7gID-M2EsdpthrTcwTNYA   \n",
       "79  Av. Revolución 1265 Col. Zona Centro 22000 Tij...  HxTqmzT4G43iAKXrB3pqQg   \n",
       "80          5909 Sea Lion Pl Ste G Carlsbad, CA 92010  -STecUUsS69EMSE7PxwPwA   \n",
       "81                17029 Handlebar Rd Ramona, CA 92065  ZeiVSF1SMdVVSkiGE7qaSg   \n",
       "\n",
       "              alias              title rating review_count price  \\\n",
       "0   winetastingroom  Wine Tasting Room    4.5          626    $$   \n",
       "1   winetastingroom  Wine Tasting Room    5.0          100    $$   \n",
       "2   winetastingroom  Wine Tasting Room    4.5          103    $$   \n",
       "3   winetastingroom  Wine Tasting Room    4.5          138    $$   \n",
       "4          wineries           Wineries    5.0           96    $$   \n",
       "..              ...                ...    ...          ...   ...   \n",
       "77         wineries           Wineries    4.0            1   NaN   \n",
       "78         wineries           Wineries    5.0            1   NaN   \n",
       "79  winetastingroom  Wine Tasting Room    4.5            7    $$   \n",
       "80         wineries           Wineries    3.0            2   NaN   \n",
       "81  winetastingroom  Wine Tasting Room    5.0            8     $   \n",
       "\n",
       "            latitude          longitude  \n",
       "0            33.0328         -117.04646  \n",
       "1   32.7107506117294  -117.160917759246  \n",
       "2           32.75488         -117.13828  \n",
       "3   32.7087316452387  -117.168194991742  \n",
       "4           33.06817          -117.0016  \n",
       "..               ...                ...  \n",
       "77         33.037121        -117.238654  \n",
       "78         32.534236        -117.034976  \n",
       "79          32.53043          -117.0365  \n",
       "80         33.134743        -117.248093  \n",
       "81          33.02015         -116.92814  \n",
       "\n",
       "[82 rows x 10 columns]"
      ]
     },
     "execution_count": 21,
     "metadata": {},
     "output_type": "execute_result"
    }
   ],
   "source": [
    "df_filtered = clean_data()\n",
    "df_filtered"
   ]
  },
  {
   "cell_type": "markdown",
   "metadata": {
    "ExecuteTime": {
     "end_time": "2021-05-13T17:51:05.843625Z",
     "start_time": "2021-05-13T17:51:05.832627Z"
    }
   },
   "source": [
    "# ƒ: convert_price"
   ]
  },
  {
   "cell_type": "code",
   "execution_count": 22,
   "metadata": {
    "ExecuteTime": {
     "end_time": "2021-05-13T18:49:28.394040Z",
     "start_time": "2021-05-13T18:49:28.382043Z"
    }
   },
   "outputs": [],
   "source": [
    "def convert_price(dataframe):\n",
    "    ''' - Requires a dataframe with the 'price' column elements being NaN, $, $$, or $$$.\n",
    "    - Takes a pre-existing dataframe and adds a column to store the conversion from $ to an integer.'''\n",
    "    \n",
    "    # Converting $s to integers, then saving to new column.\n",
    "    dataframe['price_converted'] = dataframe.loc[:,'price'].map({np.nan:0, '$':1, '$$':2, '$$$':3})\n",
    "    \n",
    "    \n",
    "    # Saves results to new file\n",
    "    dataframe.to_csv('data/wineries_price_converted.csv',index = False)\n",
    "    \n",
    "    return dataframe"
   ]
  },
  {
   "cell_type": "code",
   "execution_count": 52,
   "metadata": {
    "ExecuteTime": {
     "end_time": "2021-05-13T18:50:53.757364Z",
     "start_time": "2021-05-13T18:50:53.710366Z"
    }
   },
   "outputs": [
    {
     "data": {
      "text/html": [
       "<div>\n",
       "<style scoped>\n",
       "    .dataframe tbody tr th:only-of-type {\n",
       "        vertical-align: middle;\n",
       "    }\n",
       "\n",
       "    .dataframe tbody tr th {\n",
       "        vertical-align: top;\n",
       "    }\n",
       "\n",
       "    .dataframe thead th {\n",
       "        text-align: right;\n",
       "    }\n",
       "</style>\n",
       "<table border=\"1\" class=\"dataframe\">\n",
       "  <thead>\n",
       "    <tr style=\"text-align: right;\">\n",
       "      <th></th>\n",
       "      <th>name</th>\n",
       "      <th>location</th>\n",
       "      <th>Business ID</th>\n",
       "      <th>alias</th>\n",
       "      <th>title</th>\n",
       "      <th>rating</th>\n",
       "      <th>review_count</th>\n",
       "      <th>price</th>\n",
       "      <th>latitude</th>\n",
       "      <th>longitude</th>\n",
       "      <th>price_converted</th>\n",
       "    </tr>\n",
       "  </thead>\n",
       "  <tbody>\n",
       "    <tr>\n",
       "      <th>0</th>\n",
       "      <td>Bernardo Winery</td>\n",
       "      <td>13330 Paseo Del Verano Norte San Diego, CA 92128</td>\n",
       "      <td>DknnpiG1p4OoM1maFshzXA</td>\n",
       "      <td>winetastingroom</td>\n",
       "      <td>Wine Tasting Room</td>\n",
       "      <td>4.5</td>\n",
       "      <td>626</td>\n",
       "      <td>$$</td>\n",
       "      <td>33.0328</td>\n",
       "      <td>-117.04646</td>\n",
       "      <td>2</td>\n",
       "    </tr>\n",
       "    <tr>\n",
       "      <th>1</th>\n",
       "      <td>Callaway Vineyard &amp; Winery</td>\n",
       "      <td>517 4th Ave Ste 101 San Diego, CA 92101</td>\n",
       "      <td>Cn2_bpTngghYW1ej4zreZg</td>\n",
       "      <td>winetastingroom</td>\n",
       "      <td>Wine Tasting Room</td>\n",
       "      <td>5.0</td>\n",
       "      <td>100</td>\n",
       "      <td>$$</td>\n",
       "      <td>32.7107506117294</td>\n",
       "      <td>-117.160917759246</td>\n",
       "      <td>2</td>\n",
       "    </tr>\n",
       "    <tr>\n",
       "      <th>2</th>\n",
       "      <td>Négociant Winery</td>\n",
       "      <td>2419 El Cajon Blvd San Diego, CA 92104</td>\n",
       "      <td>Cc1sQWRWgGyMCjzX2mmMQQ</td>\n",
       "      <td>winetastingroom</td>\n",
       "      <td>Wine Tasting Room</td>\n",
       "      <td>4.5</td>\n",
       "      <td>103</td>\n",
       "      <td>$$</td>\n",
       "      <td>32.75488</td>\n",
       "      <td>-117.13828</td>\n",
       "      <td>2</td>\n",
       "    </tr>\n",
       "    <tr>\n",
       "      <th>3</th>\n",
       "      <td>San Pasqual Winery - Seaport Village</td>\n",
       "      <td>805 W Harbor Dr San Diego, CA 92101</td>\n",
       "      <td>gMW1RvyLu90RSQAY9UrIHw</td>\n",
       "      <td>winetastingroom</td>\n",
       "      <td>Wine Tasting Room</td>\n",
       "      <td>4.5</td>\n",
       "      <td>138</td>\n",
       "      <td>$$</td>\n",
       "      <td>32.7087316452387</td>\n",
       "      <td>-117.168194991742</td>\n",
       "      <td>2</td>\n",
       "    </tr>\n",
       "    <tr>\n",
       "      <th>4</th>\n",
       "      <td>Domaine Artefact Vineyard &amp; Winery</td>\n",
       "      <td>15404 Highland Valley Rd Escondido, CA 92025</td>\n",
       "      <td>WqVbxY77Ag96X90LultCUw</td>\n",
       "      <td>wineries</td>\n",
       "      <td>Wineries</td>\n",
       "      <td>5.0</td>\n",
       "      <td>96</td>\n",
       "      <td>$$</td>\n",
       "      <td>33.06817</td>\n",
       "      <td>-117.0016</td>\n",
       "      <td>2</td>\n",
       "    </tr>\n",
       "    <tr>\n",
       "      <th>...</th>\n",
       "      <td>...</td>\n",
       "      <td>...</td>\n",
       "      <td>...</td>\n",
       "      <td>...</td>\n",
       "      <td>...</td>\n",
       "      <td>...</td>\n",
       "      <td>...</td>\n",
       "      <td>...</td>\n",
       "      <td>...</td>\n",
       "      <td>...</td>\n",
       "      <td>...</td>\n",
       "    </tr>\n",
       "    <tr>\n",
       "      <th>77</th>\n",
       "      <td>Roll OutThe Barrell Charity Event by Meritage</td>\n",
       "      <td>162 S Rancho Santa Fe Rd Encinitas, CA 92024</td>\n",
       "      <td>wyLm9fIoamN-VALcu3nUVg</td>\n",
       "      <td>wineries</td>\n",
       "      <td>Wineries</td>\n",
       "      <td>4.0</td>\n",
       "      <td>1</td>\n",
       "      <td>NaN</td>\n",
       "      <td>33.037121</td>\n",
       "      <td>-117.238654</td>\n",
       "      <td>0</td>\n",
       "    </tr>\n",
       "    <tr>\n",
       "      <th>78</th>\n",
       "      <td>Licores Kentucky</td>\n",
       "      <td>Calle Puerto y 3ra S/N Col. Centro 22000 Tijua...</td>\n",
       "      <td>B7gID-M2EsdpthrTcwTNYA</td>\n",
       "      <td>wineries</td>\n",
       "      <td>Wineries</td>\n",
       "      <td>5.0</td>\n",
       "      <td>1</td>\n",
       "      <td>NaN</td>\n",
       "      <td>32.534236</td>\n",
       "      <td>-117.034976</td>\n",
       "      <td>0</td>\n",
       "    </tr>\n",
       "    <tr>\n",
       "      <th>79</th>\n",
       "      <td>Barrica 9</td>\n",
       "      <td>Av. Revolución 1265 Col. Zona Centro 22000 Tij...</td>\n",
       "      <td>HxTqmzT4G43iAKXrB3pqQg</td>\n",
       "      <td>winetastingroom</td>\n",
       "      <td>Wine Tasting Room</td>\n",
       "      <td>4.5</td>\n",
       "      <td>7</td>\n",
       "      <td>$$</td>\n",
       "      <td>32.53043</td>\n",
       "      <td>-117.0365</td>\n",
       "      <td>2</td>\n",
       "    </tr>\n",
       "    <tr>\n",
       "      <th>80</th>\n",
       "      <td>RL Liquid Assets, Inc</td>\n",
       "      <td>5909 Sea Lion Pl Ste G Carlsbad, CA 92010</td>\n",
       "      <td>-STecUUsS69EMSE7PxwPwA</td>\n",
       "      <td>wineries</td>\n",
       "      <td>Wineries</td>\n",
       "      <td>3.0</td>\n",
       "      <td>2</td>\n",
       "      <td>NaN</td>\n",
       "      <td>33.134743</td>\n",
       "      <td>-117.248093</td>\n",
       "      <td>0</td>\n",
       "    </tr>\n",
       "    <tr>\n",
       "      <th>81</th>\n",
       "      <td>Cactus Star Vineyard at Scaredy Cat Ranch</td>\n",
       "      <td>17029 Handlebar Rd Ramona, CA 92065</td>\n",
       "      <td>ZeiVSF1SMdVVSkiGE7qaSg</td>\n",
       "      <td>winetastingroom</td>\n",
       "      <td>Wine Tasting Room</td>\n",
       "      <td>5.0</td>\n",
       "      <td>8</td>\n",
       "      <td>$</td>\n",
       "      <td>33.02015</td>\n",
       "      <td>-116.92814</td>\n",
       "      <td>1</td>\n",
       "    </tr>\n",
       "  </tbody>\n",
       "</table>\n",
       "<p>82 rows × 11 columns</p>\n",
       "</div>"
      ],
      "text/plain": [
       "                                             name  \\\n",
       "0                                 Bernardo Winery   \n",
       "1                      Callaway Vineyard & Winery   \n",
       "2                                Négociant Winery   \n",
       "3            San Pasqual Winery - Seaport Village   \n",
       "4              Domaine Artefact Vineyard & Winery   \n",
       "..                                            ...   \n",
       "77  Roll OutThe Barrell Charity Event by Meritage   \n",
       "78                               Licores Kentucky   \n",
       "79                                      Barrica 9   \n",
       "80                          RL Liquid Assets, Inc   \n",
       "81      Cactus Star Vineyard at Scaredy Cat Ranch   \n",
       "\n",
       "                                             location             Business ID  \\\n",
       "0    13330 Paseo Del Verano Norte San Diego, CA 92128  DknnpiG1p4OoM1maFshzXA   \n",
       "1             517 4th Ave Ste 101 San Diego, CA 92101  Cn2_bpTngghYW1ej4zreZg   \n",
       "2              2419 El Cajon Blvd San Diego, CA 92104  Cc1sQWRWgGyMCjzX2mmMQQ   \n",
       "3                 805 W Harbor Dr San Diego, CA 92101  gMW1RvyLu90RSQAY9UrIHw   \n",
       "4        15404 Highland Valley Rd Escondido, CA 92025  WqVbxY77Ag96X90LultCUw   \n",
       "..                                                ...                     ...   \n",
       "77       162 S Rancho Santa Fe Rd Encinitas, CA 92024  wyLm9fIoamN-VALcu3nUVg   \n",
       "78  Calle Puerto y 3ra S/N Col. Centro 22000 Tijua...  B7gID-M2EsdpthrTcwTNYA   \n",
       "79  Av. Revolución 1265 Col. Zona Centro 22000 Tij...  HxTqmzT4G43iAKXrB3pqQg   \n",
       "80          5909 Sea Lion Pl Ste G Carlsbad, CA 92010  -STecUUsS69EMSE7PxwPwA   \n",
       "81                17029 Handlebar Rd Ramona, CA 92065  ZeiVSF1SMdVVSkiGE7qaSg   \n",
       "\n",
       "              alias              title rating review_count price  \\\n",
       "0   winetastingroom  Wine Tasting Room    4.5          626    $$   \n",
       "1   winetastingroom  Wine Tasting Room    5.0          100    $$   \n",
       "2   winetastingroom  Wine Tasting Room    4.5          103    $$   \n",
       "3   winetastingroom  Wine Tasting Room    4.5          138    $$   \n",
       "4          wineries           Wineries    5.0           96    $$   \n",
       "..              ...                ...    ...          ...   ...   \n",
       "77         wineries           Wineries    4.0            1   NaN   \n",
       "78         wineries           Wineries    5.0            1   NaN   \n",
       "79  winetastingroom  Wine Tasting Room    4.5            7    $$   \n",
       "80         wineries           Wineries    3.0            2   NaN   \n",
       "81  winetastingroom  Wine Tasting Room    5.0            8     $   \n",
       "\n",
       "            latitude          longitude  price_converted  \n",
       "0            33.0328         -117.04646                2  \n",
       "1   32.7107506117294  -117.160917759246                2  \n",
       "2           32.75488         -117.13828                2  \n",
       "3   32.7087316452387  -117.168194991742                2  \n",
       "4           33.06817          -117.0016                2  \n",
       "..               ...                ...              ...  \n",
       "77         33.037121        -117.238654                0  \n",
       "78         32.534236        -117.034976                0  \n",
       "79          32.53043          -117.0365                2  \n",
       "80         33.134743        -117.248093                0  \n",
       "81          33.02015         -116.92814                1  \n",
       "\n",
       "[82 rows x 11 columns]"
      ]
     },
     "execution_count": 52,
     "metadata": {},
     "output_type": "execute_result"
    }
   ],
   "source": [
    "convert_price(df_filtered)"
   ]
  },
  {
   "cell_type": "markdown",
   "metadata": {},
   "source": [
    "# Part 3 -  Create ETL pipeline for the restaurant review data from the API"
   ]
  },
  {
   "cell_type": "markdown",
   "metadata": {},
   "source": [
    "You've done this for the Businesses, now you need to do this for reviews. You will follow the same process, but your functions will be specific to reviews. Above you have a model of the functions you will need to write, and how to pull them together in one script. For this part, you have the process below "
   ]
  },
  {
   "cell_type": "markdown",
   "metadata": {},
   "source": [
    "## Getting Business IDs"
   ]
  },
  {
   "cell_type": "markdown",
   "metadata": {},
   "source": [
    "- In order to pull the reveiws, you will need the business ids. So your first step will be to get all of the business ids from your businesses csv. "
   ]
  },
  {
   "cell_type": "markdown",
   "metadata": {},
   "source": [
    "### Open file and slice ID"
   ]
  },
  {
   "cell_type": "markdown",
   "metadata": {},
   "source": [
    "1. Open data/wineries.csv\n",
    "2. Slice out the 'name' and 'id' columns for each row"
   ]
  },
  {
   "cell_type": "code",
   "execution_count": 24,
   "metadata": {
    "ExecuteTime": {
     "end_time": "2021-05-13T18:49:28.441042Z",
     "start_time": "2021-05-13T18:49:28.415042Z"
    }
   },
   "outputs": [
    {
     "data": {
      "text/plain": [
       "82"
      ]
     },
     "execution_count": 24,
     "metadata": {},
     "output_type": "execute_result"
    }
   ],
   "source": [
    "df_saved = pd.read_csv(\"data/wineries_filtered_alias.csv\")\n",
    "df_saved.reset_index(drop=True, inplace=True)\n",
    "\n",
    "# Slice out IDs, then save them to a list\n",
    "\n",
    "df_saved_id = df_saved['business id'].to_list()\n",
    "       \n",
    "len(df_saved_id)"
   ]
  },
  {
   "cell_type": "markdown",
   "metadata": {},
   "source": [
    "## Requesting Reviews"
   ]
  },
  {
   "cell_type": "markdown",
   "metadata": {},
   "source": [
    "- Write a function that takes a business id and makes a call to the API for reviews.\n"
   ]
  },
  {
   "cell_type": "markdown",
   "metadata": {},
   "source": [
    "### ƒ: get_reviews"
   ]
  },
  {
   "cell_type": "code",
   "execution_count": 25,
   "metadata": {
    "ExecuteTime": {
     "end_time": "2021-05-13T18:49:28.457041Z",
     "start_time": "2021-05-13T18:49:28.443041Z"
    },
    "code_folding": []
   },
   "outputs": [],
   "source": [
    "def get_reviews(business_ID, yelp_key, verbose=False):\n",
    "    '''Adapted from Yelp API Lab: https://github.com/BenJMcCarty/dsc-yelp-api-lab/tree/solution'''\n",
    "    \n",
    "    url = 'https://api.yelp.com/v3/businesses/'+ business_ID + '/reviews'\n",
    "\n",
    "    headers = {\n",
    "            'Authorization': 'Bearer {}'.format(yelp_key),\n",
    "        }\n",
    "\n",
    "    response = requests.get(url, headers=headers)\n",
    "\n",
    "    if verbose == True:\n",
    "        print(response)\n",
    "        print(type(response.text))\n",
    "        print(response.text[:1000])\n",
    "\n",
    "\n",
    "    return response.json()"
   ]
  },
  {
   "cell_type": "markdown",
   "metadata": {},
   "source": [
    "# ƒ: Parse Reviews for final GET"
   ]
  },
  {
   "cell_type": "code",
   "execution_count": 26,
   "metadata": {
    "ExecuteTime": {
     "end_time": "2021-05-13T18:49:28.473044Z",
     "start_time": "2021-05-13T18:49:28.459041Z"
    },
    "code_folding": []
   },
   "outputs": [],
   "source": [
    "def parse_reviews(review):\n",
    "    '''Adapted from Tyrell's code'''  \n",
    "\n",
    "    \n",
    "    # Loop through each review in the list of reviews\n",
    "    # Add specific k:v pairs to a dictionary      \n",
    "    details = {\n",
    "        'Reviewer Name': review['user']['name'],\n",
    "        'Review Rating': review['rating'],\n",
    "        'Review Text': review['text'],\n",
    "        'Time Created': review['time_created']\n",
    "        }\n",
    "\n",
    "\n",
    "    # Create a DataFrame from the resulting dictionary\n",
    "    \n",
    "    df_parsed_reviews = pd.DataFrame.from_dict([details])\n",
    "   \n",
    "    return df_parsed_reviews"
   ]
  },
  {
   "cell_type": "markdown",
   "metadata": {
    "ExecuteTime": {
     "end_time": "2021-05-12T18:10:38.397744Z",
     "start_time": "2021-05-12T18:10:38.381718Z"
    }
   },
   "source": [
    "# ƒ: GET REVIEWS (ALL)"
   ]
  },
  {
   "cell_type": "code",
   "execution_count": 27,
   "metadata": {
    "ExecuteTime": {
     "end_time": "2021-05-13T18:49:28.489040Z",
     "start_time": "2021-05-13T18:49:28.476045Z"
    }
   },
   "outputs": [],
   "source": [
    "def get_all_reviews(list_of_biz_ids, yelp_key, file_name = 'data/reviews_raw.csv'):\n",
    "    '''Requests all review results for given business IDs from Yelp API; \\\n",
    "    saves as a .csv; and returns a DataFrame.'''\n",
    "    \n",
    "    # Create a starter empty DataFrame and save to .csv to store data.    \n",
    "    blank_df = pd.DataFrame(columns= ['Reviewer Name', 'Review Rating', \n",
    "                                      'Review Text', 'Time Created', \n",
    "                                      'Business ID'])\n",
    "    blank_df.to_csv(file_name, index = False)\n",
    "        \n",
    "    for i in list_of_biz_ids:\n",
    "        try:\n",
    "            \n",
    "            # Process API request for 3 reviews per business:\n",
    "            raw_reviews = get_reviews(i, yelp_key)\n",
    "\n",
    "            for review in raw_reviews['reviews']:\n",
    "                \n",
    "\n",
    "                # From results, take values from \"Businesses\" key and save\n",
    "                parsed_reviews = parse_reviews(review) \n",
    "\n",
    "                parsed_reviews['Business ID'] = i\n",
    "                \n",
    "                # H2: save results to df\n",
    "                parsed_reviews.to_csv(file_name, mode='a', index = False,\n",
    "                                      header = False)\n",
    "\n",
    "        except:\n",
    "            # If error, print where the error happens\n",
    "            print(f'Error on page {num}.')\n",
    "            # Then save the results so far to the .csv\n",
    "            parsed_reviews.to_csv(file_name, mode='a', index = False, \n",
    "                                  header = False)\n",
    "\n",
    "    try:\n",
    "        reviews1 = pd.read_csv(file_name)\n",
    "        return reviews1\n",
    "    except:\n",
    "        return parsed_reviews"
   ]
  },
  {
   "cell_type": "markdown",
   "metadata": {},
   "source": [
    "#### Test GET REVIEWS"
   ]
  },
  {
   "cell_type": "code",
   "execution_count": 28,
   "metadata": {
    "ExecuteTime": {
     "end_time": "2021-05-13T18:49:57.159658Z",
     "start_time": "2021-05-13T18:49:28.492042Z"
    },
    "scrolled": false
   },
   "outputs": [
    {
     "data": {
      "text/html": [
       "<div>\n",
       "<style scoped>\n",
       "    .dataframe tbody tr th:only-of-type {\n",
       "        vertical-align: middle;\n",
       "    }\n",
       "\n",
       "    .dataframe tbody tr th {\n",
       "        vertical-align: top;\n",
       "    }\n",
       "\n",
       "    .dataframe thead th {\n",
       "        text-align: right;\n",
       "    }\n",
       "</style>\n",
       "<table border=\"1\" class=\"dataframe\">\n",
       "  <thead>\n",
       "    <tr style=\"text-align: right;\">\n",
       "      <th></th>\n",
       "      <th>Reviewer Name</th>\n",
       "      <th>Review Rating</th>\n",
       "      <th>Review Text</th>\n",
       "      <th>Time Created</th>\n",
       "      <th>Business ID</th>\n",
       "    </tr>\n",
       "  </thead>\n",
       "  <tbody>\n",
       "    <tr>\n",
       "      <th>0</th>\n",
       "      <td>Patrick T.</td>\n",
       "      <td>5</td>\n",
       "      <td>Debbie and Ronnie were wonderfully attentive t...</td>\n",
       "      <td>2021-04-13 19:18:16</td>\n",
       "      <td>DknnpiG1p4OoM1maFshzXA</td>\n",
       "    </tr>\n",
       "    <tr>\n",
       "      <th>1</th>\n",
       "      <td>Bianca B.</td>\n",
       "      <td>5</td>\n",
       "      <td>I haven't gone to the winery since pre covid; ...</td>\n",
       "      <td>2021-02-21 15:29:51</td>\n",
       "      <td>DknnpiG1p4OoM1maFshzXA</td>\n",
       "    </tr>\n",
       "    <tr>\n",
       "      <th>2</th>\n",
       "      <td>stephanie l.</td>\n",
       "      <td>5</td>\n",
       "      <td>I can't believe I never been here before! It's...</td>\n",
       "      <td>2021-02-21 17:19:02</td>\n",
       "      <td>DknnpiG1p4OoM1maFshzXA</td>\n",
       "    </tr>\n",
       "    <tr>\n",
       "      <th>3</th>\n",
       "      <td>The Enlightened Chef S.</td>\n",
       "      <td>5</td>\n",
       "      <td>Absolutely amazing experience. We love Callawa...</td>\n",
       "      <td>2021-04-22 12:39:46</td>\n",
       "      <td>Cn2_bpTngghYW1ej4zreZg</td>\n",
       "    </tr>\n",
       "    <tr>\n",
       "      <th>4</th>\n",
       "      <td>Jenny F.</td>\n",
       "      <td>5</td>\n",
       "      <td>The menu I posted is their limited menu right ...</td>\n",
       "      <td>2020-06-21 12:21:35</td>\n",
       "      <td>Cn2_bpTngghYW1ej4zreZg</td>\n",
       "    </tr>\n",
       "    <tr>\n",
       "      <th>...</th>\n",
       "      <td>...</td>\n",
       "      <td>...</td>\n",
       "      <td>...</td>\n",
       "      <td>...</td>\n",
       "      <td>...</td>\n",
       "    </tr>\n",
       "    <tr>\n",
       "      <th>217</th>\n",
       "      <td>kathryn b.</td>\n",
       "      <td>5</td>\n",
       "      <td>I've purchased several times from RL Liquid as...</td>\n",
       "      <td>2017-03-11 10:21:46</td>\n",
       "      <td>-STecUUsS69EMSE7PxwPwA</td>\n",
       "    </tr>\n",
       "    <tr>\n",
       "      <th>218</th>\n",
       "      <td>Richard A.</td>\n",
       "      <td>1</td>\n",
       "      <td>I spoke with the sales representative over the...</td>\n",
       "      <td>2015-12-02 11:28:21</td>\n",
       "      <td>-STecUUsS69EMSE7PxwPwA</td>\n",
       "    </tr>\n",
       "    <tr>\n",
       "      <th>219</th>\n",
       "      <td>Hal J.</td>\n",
       "      <td>5</td>\n",
       "      <td>This place is incredible, truly farm to table ...</td>\n",
       "      <td>2021-03-28 15:27:56</td>\n",
       "      <td>ZeiVSF1SMdVVSkiGE7qaSg</td>\n",
       "    </tr>\n",
       "    <tr>\n",
       "      <th>220</th>\n",
       "      <td>Lynn D.</td>\n",
       "      <td>5</td>\n",
       "      <td>You must get to Cactus Star! Although it is th...</td>\n",
       "      <td>2019-05-07 11:16:36</td>\n",
       "      <td>ZeiVSF1SMdVVSkiGE7qaSg</td>\n",
       "    </tr>\n",
       "    <tr>\n",
       "      <th>221</th>\n",
       "      <td>Brandy C.</td>\n",
       "      <td>5</td>\n",
       "      <td>Such a cute small winery. I highly recommend v...</td>\n",
       "      <td>2018-03-01 16:32:21</td>\n",
       "      <td>ZeiVSF1SMdVVSkiGE7qaSg</td>\n",
       "    </tr>\n",
       "  </tbody>\n",
       "</table>\n",
       "<p>222 rows × 5 columns</p>\n",
       "</div>"
      ],
      "text/plain": [
       "               Reviewer Name  Review Rating  \\\n",
       "0                 Patrick T.              5   \n",
       "1                  Bianca B.              5   \n",
       "2               stephanie l.              5   \n",
       "3    The Enlightened Chef S.              5   \n",
       "4                   Jenny F.              5   \n",
       "..                       ...            ...   \n",
       "217               kathryn b.              5   \n",
       "218               Richard A.              1   \n",
       "219                   Hal J.              5   \n",
       "220                  Lynn D.              5   \n",
       "221                Brandy C.              5   \n",
       "\n",
       "                                           Review Text         Time Created  \\\n",
       "0    Debbie and Ronnie were wonderfully attentive t...  2021-04-13 19:18:16   \n",
       "1    I haven't gone to the winery since pre covid; ...  2021-02-21 15:29:51   \n",
       "2    I can't believe I never been here before! It's...  2021-02-21 17:19:02   \n",
       "3    Absolutely amazing experience. We love Callawa...  2021-04-22 12:39:46   \n",
       "4    The menu I posted is their limited menu right ...  2020-06-21 12:21:35   \n",
       "..                                                 ...                  ...   \n",
       "217  I've purchased several times from RL Liquid as...  2017-03-11 10:21:46   \n",
       "218  I spoke with the sales representative over the...  2015-12-02 11:28:21   \n",
       "219  This place is incredible, truly farm to table ...  2021-03-28 15:27:56   \n",
       "220  You must get to Cactus Star! Although it is th...  2019-05-07 11:16:36   \n",
       "221  Such a cute small winery. I highly recommend v...  2018-03-01 16:32:21   \n",
       "\n",
       "                Business ID  \n",
       "0    DknnpiG1p4OoM1maFshzXA  \n",
       "1    DknnpiG1p4OoM1maFshzXA  \n",
       "2    DknnpiG1p4OoM1maFshzXA  \n",
       "3    Cn2_bpTngghYW1ej4zreZg  \n",
       "4    Cn2_bpTngghYW1ej4zreZg  \n",
       "..                      ...  \n",
       "217  -STecUUsS69EMSE7PxwPwA  \n",
       "218  -STecUUsS69EMSE7PxwPwA  \n",
       "219  ZeiVSF1SMdVVSkiGE7qaSg  \n",
       "220  ZeiVSF1SMdVVSkiGE7qaSg  \n",
       "221  ZeiVSF1SMdVVSkiGE7qaSg  \n",
       "\n",
       "[222 rows x 5 columns]"
      ]
     },
     "execution_count": 28,
     "metadata": {},
     "output_type": "execute_result"
    }
   ],
   "source": [
    "test_all_funct = get_all_reviews(df_saved_id, yelp_key)\n",
    "test_all_funct"
   ]
  },
  {
   "cell_type": "markdown",
   "metadata": {},
   "source": [
    "# Joining DFs"
   ]
  },
  {
   "cell_type": "code",
   "execution_count": 29,
   "metadata": {
    "ExecuteTime": {
     "end_time": "2021-05-13T18:49:57.175691Z",
     "start_time": "2021-05-13T18:49:57.161660Z"
    }
   },
   "outputs": [],
   "source": [
    "# df_details = pd.read_csv(\"data/wineries_price_converted.csv\")\n",
    "# df_reviews = pd.read_csv(\"data/reviews_raw.csv\")"
   ]
  },
  {
   "cell_type": "code",
   "execution_count": 30,
   "metadata": {
    "ExecuteTime": {
     "end_time": "2021-05-13T18:49:57.191658Z",
     "start_time": "2021-05-13T18:49:57.177668Z"
    }
   },
   "outputs": [],
   "source": [
    "# df_details.info()"
   ]
  },
  {
   "cell_type": "code",
   "execution_count": 31,
   "metadata": {
    "ExecuteTime": {
     "end_time": "2021-05-13T18:49:57.207666Z",
     "start_time": "2021-05-13T18:49:57.194661Z"
    }
   },
   "outputs": [],
   "source": [
    "# df_reviews.info()"
   ]
  },
  {
   "cell_type": "code",
   "execution_count": 32,
   "metadata": {
    "ExecuteTime": {
     "end_time": "2021-05-13T18:49:57.223662Z",
     "start_time": "2021-05-13T18:49:57.209659Z"
    }
   },
   "outputs": [],
   "source": [
    "# df_merged = df_details.merge(df_reviews, how='outer', on='Business ID')\n",
    "# df_merged"
   ]
  },
  {
   "cell_type": "code",
   "execution_count": 33,
   "metadata": {
    "ExecuteTime": {
     "end_time": "2021-05-13T18:49:57.239695Z",
     "start_time": "2021-05-13T18:49:57.225658Z"
    }
   },
   "outputs": [],
   "source": [
    "# df_merged.info()"
   ]
  },
  {
   "cell_type": "markdown",
   "metadata": {},
   "source": [
    "----"
   ]
  },
  {
   "cell_type": "markdown",
   "metadata": {},
   "source": [
    "# Part 4 -  Using python and pandas, write code to answer the questions below. "
   ]
  },
  {
   "cell_type": "markdown",
   "metadata": {},
   "source": [
    "**Reviews**\n",
    "\n",
    "Which are the 5 most reviewed businesses in your dataset?"
   ]
  },
  {
   "cell_type": "code",
   "execution_count": 34,
   "metadata": {
    "ExecuteTime": {
     "end_time": "2021-05-13T18:49:57.255659Z",
     "start_time": "2021-05-13T18:49:57.241662Z"
    }
   },
   "outputs": [],
   "source": [
    "# df_saved.sort_values('review_count', ascending=False).head()[['name','review_count']]"
   ]
  },
  {
   "cell_type": "markdown",
   "metadata": {},
   "source": [
    "What is the highest rating received in your data set and how many businesses have that rating?"
   ]
  },
  {
   "cell_type": "code",
   "execution_count": 35,
   "metadata": {
    "ExecuteTime": {
     "end_time": "2021-05-13T18:49:57.271697Z",
     "start_time": "2021-05-13T18:49:57.257658Z"
    },
    "scrolled": true
   },
   "outputs": [],
   "source": [
    "# max_rating = df_saved['rating'].max()\n",
    "\n",
    "# df_saved[df_saved['rating']== max_rating].shape"
   ]
  },
  {
   "cell_type": "code",
   "execution_count": 36,
   "metadata": {
    "ExecuteTime": {
     "end_time": "2021-05-13T18:49:57.287691Z",
     "start_time": "2021-05-13T18:49:57.274691Z"
    }
   },
   "outputs": [],
   "source": [
    "# sns.__version__"
   ]
  },
  {
   "cell_type": "code",
   "execution_count": 37,
   "metadata": {
    "ExecuteTime": {
     "end_time": "2021-05-13T18:49:57.302689Z",
     "start_time": "2021-05-13T18:49:57.290674Z"
    }
   },
   "outputs": [],
   "source": [
    "# df_saved"
   ]
  },
  {
   "cell_type": "markdown",
   "metadata": {},
   "source": [
    "# Converting Price to Int"
   ]
  },
  {
   "cell_type": "code",
   "execution_count": 38,
   "metadata": {
    "ExecuteTime": {
     "end_time": "2021-05-13T18:49:57.318689Z",
     "start_time": "2021-05-13T18:49:57.304662Z"
    }
   },
   "outputs": [],
   "source": [
    "# df_saved['price'].value_counts(dropna=False)"
   ]
  },
  {
   "cell_type": "code",
   "execution_count": 39,
   "metadata": {
    "ExecuteTime": {
     "end_time": "2021-05-13T18:49:57.333666Z",
     "start_time": "2021-05-13T18:49:57.321663Z"
    }
   },
   "outputs": [],
   "source": [
    "# df_saved['price_converted'] = df_saved['price'].map({np.nan:0, '$':1, '$$':2, '$$$':3})"
   ]
  },
  {
   "cell_type": "code",
   "execution_count": 40,
   "metadata": {
    "ExecuteTime": {
     "end_time": "2021-05-13T18:49:57.364660Z",
     "start_time": "2021-05-13T18:49:57.342659Z"
    }
   },
   "outputs": [],
   "source": [
    "# sns.countplot(x= 'price_converted', data=df_saved);"
   ]
  },
  {
   "cell_type": "code",
   "execution_count": 41,
   "metadata": {
    "ExecuteTime": {
     "end_time": "2021-05-13T18:49:57.379658Z",
     "start_time": "2021-05-13T18:49:57.367659Z"
    }
   },
   "outputs": [],
   "source": [
    "# sns.countplot(x= 'rating',data=df_saved);"
   ]
  },
  {
   "cell_type": "markdown",
   "metadata": {},
   "source": [
    ">- `hue` parameter - seaborn"
   ]
  },
  {
   "cell_type": "markdown",
   "metadata": {},
   "source": [
    "What percentage of businesses have a rating greater than or  4.5?"
   ]
  },
  {
   "cell_type": "code",
   "execution_count": 42,
   "metadata": {
    "ExecuteTime": {
     "end_time": "2021-05-13T18:49:57.395657Z",
     "start_time": "2021-05-13T18:49:57.381659Z"
    }
   },
   "outputs": [],
   "source": [
    "# df_total_high = df_saved[df_saved['rating'] >= 4.5].shape[0]\n",
    "# df_total_high / df_saved.shape[0]"
   ]
  },
  {
   "cell_type": "markdown",
   "metadata": {},
   "source": [
    "What percentage of businesses have a rating less than 3?"
   ]
  },
  {
   "cell_type": "code",
   "execution_count": 43,
   "metadata": {
    "ExecuteTime": {
     "end_time": "2021-05-13T18:49:57.411658Z",
     "start_time": "2021-05-13T18:49:57.397660Z"
    }
   },
   "outputs": [],
   "source": [
    "# df_total_low = df_saved[df_saved['rating'] < 3].shape[0]\n",
    "# df_total_low"
   ]
  },
  {
   "cell_type": "code",
   "execution_count": 44,
   "metadata": {
    "ExecuteTime": {
     "end_time": "2021-05-13T18:49:57.426660Z",
     "start_time": "2021-05-13T18:49:57.414659Z"
    }
   },
   "outputs": [],
   "source": [
    "# df_total_low / df_saved.shape[0]"
   ]
  },
  {
   "cell_type": "markdown",
   "metadata": {},
   "source": [
    "---\n",
    "\n",
    "**Pricing**\n",
    "\n",
    "What percentage of your businesses have a price label of one dollar sign? Two dollar signs? Three dollar signs? No dollar signs?"
   ]
  },
  {
   "cell_type": "code",
   "execution_count": 45,
   "metadata": {
    "ExecuteTime": {
     "end_time": "2021-05-13T18:49:57.442660Z",
     "start_time": "2021-05-13T18:49:57.429660Z"
    }
   },
   "outputs": [],
   "source": [
    "# df_total_zero = df_saved[df_saved['price_converted'] == 0].shape[0]\n",
    "# print(df_total_zero / df_saved.shape[0])\n",
    "# df_total_one = df_saved[df_saved['price_converted'] == 1].shape[0]\n",
    "# print(df_total_one / df_saved.shape[0])\n",
    "# df_total_two = df_saved[df_saved['price_converted'] == 2].shape[0]\n",
    "# print(df_total_two / df_saved.shape[0])\n",
    "# df_total_three = df_saved[df_saved['price_converted'] == 3].shape[0]\n",
    "# print(df_total_three / df_saved.shape[0])"
   ]
  },
  {
   "cell_type": "markdown",
   "metadata": {},
   "source": [
    "---\n",
    "\n",
    "**Returing Reviews**\n",
    "\n",
    "Return the text of the reviews for the most reviewed business. "
   ]
  },
  {
   "cell_type": "code",
   "execution_count": 46,
   "metadata": {
    "ExecuteTime": {
     "end_time": "2021-05-13T18:49:57.457670Z",
     "start_time": "2021-05-13T18:49:57.444660Z"
    }
   },
   "outputs": [],
   "source": [
    "# df_saved.keys()"
   ]
  },
  {
   "cell_type": "code",
   "execution_count": 47,
   "metadata": {
    "ExecuteTime": {
     "end_time": "2021-05-13T18:49:57.473657Z",
     "start_time": "2021-05-13T18:49:57.460661Z"
    },
    "scrolled": true
   },
   "outputs": [],
   "source": [
    "# max_reviewed = df_saved['review_count'].max()\n",
    "# most_reviewed_id = df_saved[df_saved['review_count'] == max_reviewed]['business id']\n",
    "# most_reviewed_id\n",
    "# # test_all_funct[test_all_funct['business id'] == 'DknnpiG1p4OoM1maFshzXA']\n"
   ]
  },
  {
   "cell_type": "code",
   "execution_count": 48,
   "metadata": {
    "ExecuteTime": {
     "end_time": "2021-05-13T18:49:57.488659Z",
     "start_time": "2021-05-13T18:49:57.476662Z"
    }
   },
   "outputs": [],
   "source": [
    "# test_all_funct.keys()"
   ]
  },
  {
   "cell_type": "markdown",
   "metadata": {},
   "source": [
    "Find the highest rated business and return text of the most recent review. If multiple business have the same rating, select the business with the most reviews. "
   ]
  },
  {
   "cell_type": "code",
   "execution_count": 49,
   "metadata": {
    "ExecuteTime": {
     "end_time": "2021-05-13T18:49:57.503662Z",
     "start_time": "2021-05-13T18:49:57.491662Z"
    }
   },
   "outputs": [],
   "source": [
    "# top_b = df_saved[df_saved['rating'] == max_rating]\n",
    "# max_counts = df_saved['review_count'].max()\n",
    "# top_num_reviews_top_b = top_b['review_count'].max()\n",
    "# top_b[top_b['review_count'] == top_num_reviews_top_b]"
   ]
  },
  {
   "cell_type": "markdown",
   "metadata": {},
   "source": [
    "Find the lowest rated business and return text of the most recent review.  If multiple business have the same rating, select the business with the least reviews. "
   ]
  },
  {
   "cell_type": "code",
   "execution_count": 50,
   "metadata": {
    "ExecuteTime": {
     "end_time": "2021-05-13T18:49:57.519662Z",
     "start_time": "2021-05-13T18:49:57.506661Z"
    }
   },
   "outputs": [],
   "source": [
    "# min_b = df_saved['rating'].min()\n",
    "# min_b = df_saved[df_saved['rating'] == min_b]\n",
    "# min_counts = df_saved['review_count'].min()\n",
    "# min_num_reviews_min_b = min_b['review_count'].min()\n",
    "# min_b[min_b['review_count'] == min_num_reviews_min_b]"
   ]
  },
  {
   "cell_type": "markdown",
   "metadata": {},
   "source": [
    "# Reference help"
   ]
  },
  {
   "cell_type": "markdown",
   "metadata": {},
   "source": [
    "###  Pagination\n",
    "\n",
    "Returning to the Yelp API, the [documentation](https://www.yelp.com/developers/documentation/v3/business_search) also provides us details regarding the API limits. These often include details about the number of requests a user is allowed to make within a specified time limit and the maximum number of results to be returned. In this case, we are told that any request has a maximum of 50 results per request and defaults to 20. Furthermore, any search will be limited to a total of 1000 results. To retrieve all 1000 of these results, we would have to page through the results piece by piece, retriving 50 at a time. Processes such as these are often refered to as pagination.\n",
    "\n",
    "Now that you have an initial response, you can examine the contents of the json container. For example, you might start with ```response.json().keys()```. Here, you'll see a key for `'total'`, which tells you the full number of matching results given your query parameters. Write a loop (or ideally a function) which then makes successive API calls using the offset parameter to retrieve all of the results (or 5000 for a particularly large result set) for the original query. As you do this, be mindful of how you store the data. \n",
    "\n",
    "**Note: be mindful of the API rate limits. You can only make 5000 requests per day, and APIs can make requests too fast. Start prototyping small before running a loop that could be faulty. You can also use time.sleep(n) to add delays. For more details see https://www.yelp.com/developers/documentation/v3/rate_limiting.**"
   ]
  },
  {
   "cell_type": "markdown",
   "metadata": {},
   "source": [
    "***Below is sample code that you can use to help you deal with the pagination parameter and bring all of the functions together.***\n",
    "\n",
    "\n",
    "***Also, something might cause your code to break while it is running. You don't want to constantly repull the same data when this happens, so you should insert the data into the database as you call and parse it, not after you have all of the data***\n"
   ]
  },
  {
   "cell_type": "code",
   "execution_count": 51,
   "metadata": {
    "ExecuteTime": {
     "end_time": "2021-05-13T18:49:57.535659Z",
     "start_time": "2021-05-13T18:49:57.522660Z"
    }
   },
   "outputs": [],
   "source": [
    "# # create a variable  to keep track of which result you are in. \n",
    "# cur = 0\n",
    "\n",
    "# #set up a while loop to go through and grab the result \n",
    "# while cur < num and cur < 1000:\n",
    "#     #set the offset parameter to be where you currently are in the results \n",
    "#     url_params['offset'] = cur\n",
    "#     #make your API call with the new offset number\n",
    "#     results = yelp_call(url_params, api_key)\n",
    "    \n",
    "#     #after you get your results you can now use your function to parse those results\n",
    "#     parsed_results = parse_results(results)\n",
    "    \n",
    "#     # use your function to insert your parsed results into the db\n",
    "#     db_insert(parsed_results)\n",
    "#     #increment the counter by 50 to move on to the next results\n",
    "#     cur += 20"
   ]
  },
  {
   "cell_type": "code",
   "execution_count": null,
   "metadata": {},
   "outputs": [],
   "source": []
  }
 ],
 "metadata": {
  "kernelspec": {
   "display_name": "Python 3",
   "language": "python",
   "name": "python3"
  },
  "language_info": {
   "codemirror_mode": {
    "name": "ipython",
    "version": 3
   },
   "file_extension": ".py",
   "mimetype": "text/x-python",
   "name": "python",
   "nbconvert_exporter": "python",
   "pygments_lexer": "ipython3",
   "version": "3.8.5"
  },
  "toc": {
   "base_numbering": 1,
   "nav_menu": {},
   "number_sections": false,
   "sideBar": true,
   "skip_h1_title": false,
   "title_cell": "Table of Contents",
   "title_sidebar": "Contents",
   "toc_cell": false,
   "toc_position": {
    "height": "calc(100% - 180px)",
    "left": "10px",
    "top": "150px",
    "width": "225px"
   },
   "toc_section_display": true,
   "toc_window_display": true
  },
  "varInspector": {
   "cols": {
    "lenName": "32",
    "lenType": 16,
    "lenVar": 40
   },
   "kernels_config": {
    "python": {
     "delete_cmd_postfix": "",
     "delete_cmd_prefix": "del ",
     "library": "var_list.py",
     "varRefreshCmd": "print(var_dic_list())"
    },
    "r": {
     "delete_cmd_postfix": ") ",
     "delete_cmd_prefix": "rm(",
     "library": "var_list.r",
     "varRefreshCmd": "cat(var_dic_list()) "
    }
   },
   "types_to_exclude": [
    "module",
    "function",
    "builtin_function_or_method",
    "instance",
    "_Feature"
   ],
   "window_display": false
  }
 },
 "nbformat": 4,
 "nbformat_minor": 2
}
